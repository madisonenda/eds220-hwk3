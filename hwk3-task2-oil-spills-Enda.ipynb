{
 "cells": [
  {
   "cell_type": "code",
   "execution_count": null,
   "metadata": {
    "deletable": false,
    "editable": false
   },
   "outputs": [],
   "source": [
    "# Initialize Otter\n",
    "import otter\n",
    "grader = otter.Notebook(\"hwk3-task1-spills.ipynb\")"
   ]
  },
  {
   "cell_type": "markdown",
   "metadata": {},
   "source": [
    "# Task 1: Visualizing oil spills in NY State\n",
    "\n",
    "## Instructions\n",
    "\n",
    "- First, update the following cell to have a link to *your* Homework 3 GitHub repository:\n",
    "\n",
    "**UPDATE THIS LINK**\n",
    "https://github.com/madisonenda/eds220-hwk3/tree/main\n",
    "\n",
    "\n",
    "- Review the [complete rubric for this task](https://docs.google.com/document/d/1Ce4EO3MEHW5uLks4x8BECWlkim2bcmxB4f8Qo4z26z8/edit?usp=sharing) before starting.\n",
    "\n",
    "- **Meaningful commits should be made every time you finish a major step.** We'll check your repository and view the commit history.\n",
    "\n",
    "- Comment mindfully in a way that enriches your code. Comments should follow best practices.\n",
    "\n",
    "- **Do not update the top cell with the `otter` import**, this is used internally for grading.\n",
    "\n",
    "- Delete all the comments initially included in this notebook (ex: `# Your code here`).\n",
    "\n",
    "\n",
    "## About the data\n",
    "In this task you will use two datsets:\n",
    "\n",
    "### First dataset: oil spills data\n",
    "\n",
    "The first dataset contains information about [spilling incidents in the state of New York](https://data.ny.gov/Energy-Environment/Spill-Incidents/u44d-k5fk). \n",
    "You can find extra information and metadata for this dataset in the `NYSDEC_SpillIncidents_Overview.pdf` and `NYSDEC_SpillIncidents_DataDictionary.pdf` documents available at the portal.\n",
    "\n",
    "### Second dataset: TIGER shapefile\n",
    "\n",
    "The second dataset is the [the 2023 Counties (and equivalent) TIGER shapefile](https://www.census.gov/geographies/mapping-files/time-series/geo/tiger-line-file.2022.html#list-tab-790442341) from the Census Bureau. You can check the [metadata for all the TIGER shapefiles here](https://www.census.gov/programs-surveys/geography/technical-documentation/complete-technical-documentation/tiger-geo-line.html). "
   ]
  },
  {
   "cell_type": "markdown",
   "metadata": {},
   "source": [
    "\n",
    "## 1. File management\n",
    "a. Create a `data/` directory inside your `eds220-hwk3` directory. If you download any data, it should be transferred into this folder. \n",
    "\n",
    "b. Add the `data/` directory to your `.gitignore` file and push your changes. This is IMPORTANT: the datasets we'll be working with are large and they will most likely jam your `git` workflow if you try to push them. Your `data/` directory should not be in your GitHub repository."
   ]
  },
  {
   "cell_type": "markdown",
   "metadata": {},
   "source": [
    "## 2. Datasets description\n",
    "Read the metadata for both datsets and write a description about each one. Indicate the date sources and date of access.\n"
   ]
  },
  {
   "cell_type": "markdown",
   "metadata": {},
   "source": [
    "*Your answer here.*"
   ]
  },
  {
   "cell_type": "markdown",
   "metadata": {},
   "source": [
    "## 3. Import libraries"
   ]
  },
  {
   "cell_type": "code",
   "execution_count": 1,
   "metadata": {
    "tags": []
   },
   "outputs": [],
   "source": [
    "# Importing the libraries for this project\n",
    "import pandas as pd\n",
    "import numpy as np\n",
    "import matplotlib.pyplot as plt \n",
    "import os \n",
    "import geopandas as gpd"
   ]
  },
  {
   "cell_type": "markdown",
   "metadata": {},
   "source": [
    "## 4. Import data \n",
    "In the next cell:\n",
    "\n",
    "- Import the NY spills data as a variable named `spills`. \n",
    "- Import the US counties data as a variable named `counties`.\n",
    "\n",
    "If you are using file paths to access the data, these should be constructed using the `os` package."
   ]
  },
  {
   "cell_type": "code",
   "execution_count": 3,
   "metadata": {
    "tags": []
   },
   "outputs": [
    {
     "data": {
      "text/html": [
       "<div>\n",
       "<style scoped>\n",
       "    .dataframe tbody tr th:only-of-type {\n",
       "        vertical-align: middle;\n",
       "    }\n",
       "\n",
       "    .dataframe tbody tr th {\n",
       "        vertical-align: top;\n",
       "    }\n",
       "\n",
       "    .dataframe thead th {\n",
       "        text-align: right;\n",
       "    }\n",
       "</style>\n",
       "<table border=\"1\" class=\"dataframe\">\n",
       "  <thead>\n",
       "    <tr style=\"text-align: right;\">\n",
       "      <th></th>\n",
       "      <th>Spill Number</th>\n",
       "      <th>Program Facility Name</th>\n",
       "      <th>Street 1</th>\n",
       "      <th>Street 2</th>\n",
       "      <th>Locality</th>\n",
       "      <th>County</th>\n",
       "      <th>ZIP Code</th>\n",
       "      <th>SWIS Code</th>\n",
       "      <th>DEC Region</th>\n",
       "      <th>Spill Date</th>\n",
       "      <th>Received Date</th>\n",
       "      <th>Contributing Factor</th>\n",
       "      <th>Waterbody</th>\n",
       "      <th>Source</th>\n",
       "      <th>Close Date</th>\n",
       "      <th>Material Name</th>\n",
       "      <th>Material Family</th>\n",
       "      <th>Quantity</th>\n",
       "      <th>Units</th>\n",
       "      <th>Recovered</th>\n",
       "    </tr>\n",
       "  </thead>\n",
       "  <tbody>\n",
       "    <tr>\n",
       "      <th>0</th>\n",
       "      <td>107132</td>\n",
       "      <td>MH 864</td>\n",
       "      <td>RT 119/MILLWOOD RD</td>\n",
       "      <td>NaN</td>\n",
       "      <td>ELMSFORD</td>\n",
       "      <td>Westchester</td>\n",
       "      <td>NaN</td>\n",
       "      <td>6000</td>\n",
       "      <td>3</td>\n",
       "      <td>10/10/2001</td>\n",
       "      <td>10/10/2001</td>\n",
       "      <td>Unknown</td>\n",
       "      <td>NaN</td>\n",
       "      <td>Unknown</td>\n",
       "      <td>10/15/2001</td>\n",
       "      <td>unknown material</td>\n",
       "      <td>Other</td>\n",
       "      <td>10.0</td>\n",
       "      <td>Gallons</td>\n",
       "      <td>0.0</td>\n",
       "    </tr>\n",
       "    <tr>\n",
       "      <th>1</th>\n",
       "      <td>405586</td>\n",
       "      <td>BOWRY BAY</td>\n",
       "      <td>WATER POLL CONTROL</td>\n",
       "      <td>NaN</td>\n",
       "      <td>QUEENS</td>\n",
       "      <td>Queens</td>\n",
       "      <td>NaN</td>\n",
       "      <td>4101</td>\n",
       "      <td>2</td>\n",
       "      <td>08/21/2004</td>\n",
       "      <td>08/21/2004</td>\n",
       "      <td>Other</td>\n",
       "      <td>EAST RIVER</td>\n",
       "      <td>Unknown</td>\n",
       "      <td>09/17/2004</td>\n",
       "      <td>raw sewage</td>\n",
       "      <td>Other</td>\n",
       "      <td>0.0</td>\n",
       "      <td>NaN</td>\n",
       "      <td>0.0</td>\n",
       "    </tr>\n",
       "    <tr>\n",
       "      <th>2</th>\n",
       "      <td>405586</td>\n",
       "      <td>BOWRY BAY</td>\n",
       "      <td>WATER POLL CONTROL</td>\n",
       "      <td>NaN</td>\n",
       "      <td>QUEENS</td>\n",
       "      <td>Queens</td>\n",
       "      <td>NaN</td>\n",
       "      <td>4101</td>\n",
       "      <td>2</td>\n",
       "      <td>08/21/2004</td>\n",
       "      <td>08/21/2004</td>\n",
       "      <td>Other</td>\n",
       "      <td>EAST RIVER</td>\n",
       "      <td>Unknown</td>\n",
       "      <td>09/17/2004</td>\n",
       "      <td>raw sewage</td>\n",
       "      <td>Other</td>\n",
       "      <td>0.0</td>\n",
       "      <td>Pounds</td>\n",
       "      <td>0.0</td>\n",
       "    </tr>\n",
       "    <tr>\n",
       "      <th>3</th>\n",
       "      <td>204667</td>\n",
       "      <td>POLE 16091</td>\n",
       "      <td>GRACE AVE/BURKE AVE</td>\n",
       "      <td>NaN</td>\n",
       "      <td>BRONX</td>\n",
       "      <td>Bronx</td>\n",
       "      <td>NaN</td>\n",
       "      <td>301</td>\n",
       "      <td>2</td>\n",
       "      <td>08/02/2002</td>\n",
       "      <td>08/02/2002</td>\n",
       "      <td>Equipment Failure</td>\n",
       "      <td>NaN</td>\n",
       "      <td>Commercial/Industrial</td>\n",
       "      <td>10/28/2002</td>\n",
       "      <td>transformer oil</td>\n",
       "      <td>Petroleum</td>\n",
       "      <td>1.0</td>\n",
       "      <td>Gallons</td>\n",
       "      <td>0.0</td>\n",
       "    </tr>\n",
       "    <tr>\n",
       "      <th>4</th>\n",
       "      <td>210559</td>\n",
       "      <td>POLE ON</td>\n",
       "      <td>FERDALE LOMIS RD / RT 52</td>\n",
       "      <td>NaN</td>\n",
       "      <td>LIBERTY</td>\n",
       "      <td>Sullivan</td>\n",
       "      <td>NaN</td>\n",
       "      <td>5336</td>\n",
       "      <td>3</td>\n",
       "      <td>01/20/2003</td>\n",
       "      <td>01/20/2003</td>\n",
       "      <td>Traffic Accident</td>\n",
       "      <td>NaN</td>\n",
       "      <td>Commercial/Industrial</td>\n",
       "      <td>01/22/2003</td>\n",
       "      <td>transformer oil</td>\n",
       "      <td>Petroleum</td>\n",
       "      <td>6.0</td>\n",
       "      <td>Gallons</td>\n",
       "      <td>6.0</td>\n",
       "    </tr>\n",
       "  </tbody>\n",
       "</table>\n",
       "</div>"
      ],
      "text/plain": [
       "   Spill Number Program Facility Name                  Street 1 Street 2  \\\n",
       "0        107132                MH 864        RT 119/MILLWOOD RD      NaN   \n",
       "1        405586             BOWRY BAY        WATER POLL CONTROL      NaN   \n",
       "2        405586             BOWRY BAY        WATER POLL CONTROL      NaN   \n",
       "3        204667            POLE 16091       GRACE AVE/BURKE AVE      NaN   \n",
       "4        210559               POLE ON  FERDALE LOMIS RD / RT 52      NaN   \n",
       "\n",
       "   Locality       County ZIP Code  SWIS Code  DEC Region  Spill Date  \\\n",
       "0  ELMSFORD  Westchester      NaN       6000           3  10/10/2001   \n",
       "1    QUEENS       Queens      NaN       4101           2  08/21/2004   \n",
       "2    QUEENS       Queens      NaN       4101           2  08/21/2004   \n",
       "3     BRONX        Bronx      NaN        301           2  08/02/2002   \n",
       "4   LIBERTY     Sullivan      NaN       5336           3  01/20/2003   \n",
       "\n",
       "  Received Date Contributing Factor   Waterbody                 Source  \\\n",
       "0    10/10/2001             Unknown         NaN                Unknown   \n",
       "1    08/21/2004               Other  EAST RIVER                Unknown   \n",
       "2    08/21/2004               Other  EAST RIVER                Unknown   \n",
       "3    08/02/2002   Equipment Failure         NaN  Commercial/Industrial   \n",
       "4    01/20/2003    Traffic Accident         NaN  Commercial/Industrial   \n",
       "\n",
       "   Close Date     Material Name Material Family  Quantity    Units  Recovered  \n",
       "0  10/15/2001  unknown material           Other      10.0  Gallons        0.0  \n",
       "1  09/17/2004        raw sewage           Other       0.0      NaN        0.0  \n",
       "2  09/17/2004        raw sewage           Other       0.0   Pounds        0.0  \n",
       "3  10/28/2002   transformer oil       Petroleum       1.0  Gallons        0.0  \n",
       "4  01/22/2003   transformer oil       Petroleum       6.0  Gallons        6.0  "
      ]
     },
     "execution_count": 3,
     "metadata": {},
     "output_type": "execute_result"
    }
   ],
   "source": [
    "# Importing the data as spills and counties\n",
    "# Creating a variable called \"spills\" for the NY oil spill data\n",
    "spills = pd.read_csv('data/Spill_Incidents_20241105.csv')\n",
    "\n",
    "# Looking at the first 5 rows of the data frame\n",
    "spills.head()"
   ]
  },
  {
   "cell_type": "code",
   "execution_count": 5,
   "metadata": {
    "tags": []
   },
   "outputs": [
    {
     "data": {
      "text/html": [
       "<div>\n",
       "<style scoped>\n",
       "    .dataframe tbody tr th:only-of-type {\n",
       "        vertical-align: middle;\n",
       "    }\n",
       "\n",
       "    .dataframe tbody tr th {\n",
       "        vertical-align: top;\n",
       "    }\n",
       "\n",
       "    .dataframe thead th {\n",
       "        text-align: right;\n",
       "    }\n",
       "</style>\n",
       "<table border=\"1\" class=\"dataframe\">\n",
       "  <thead>\n",
       "    <tr style=\"text-align: right;\">\n",
       "      <th></th>\n",
       "      <th>STATEFP</th>\n",
       "      <th>COUNTYFP</th>\n",
       "      <th>COUNTYNS</th>\n",
       "      <th>GEOID</th>\n",
       "      <th>GEOIDFQ</th>\n",
       "      <th>NAME</th>\n",
       "      <th>NAMELSAD</th>\n",
       "      <th>LSAD</th>\n",
       "      <th>CLASSFP</th>\n",
       "      <th>MTFCC</th>\n",
       "      <th>CSAFP</th>\n",
       "      <th>CBSAFP</th>\n",
       "      <th>METDIVFP</th>\n",
       "      <th>FUNCSTAT</th>\n",
       "      <th>ALAND</th>\n",
       "      <th>AWATER</th>\n",
       "      <th>INTPTLAT</th>\n",
       "      <th>INTPTLON</th>\n",
       "      <th>geometry</th>\n",
       "    </tr>\n",
       "  </thead>\n",
       "  <tbody>\n",
       "    <tr>\n",
       "      <th>0</th>\n",
       "      <td>31</td>\n",
       "      <td>039</td>\n",
       "      <td>00835841</td>\n",
       "      <td>31039</td>\n",
       "      <td>0500000US31039</td>\n",
       "      <td>Cuming</td>\n",
       "      <td>Cuming County</td>\n",
       "      <td>06</td>\n",
       "      <td>H1</td>\n",
       "      <td>G4020</td>\n",
       "      <td>NaN</td>\n",
       "      <td>NaN</td>\n",
       "      <td>NaN</td>\n",
       "      <td>A</td>\n",
       "      <td>1477563029</td>\n",
       "      <td>10772508</td>\n",
       "      <td>+41.9158651</td>\n",
       "      <td>-096.7885168</td>\n",
       "      <td>POLYGON ((-96.55515 41.91587, -96.55515 41.914...</td>\n",
       "    </tr>\n",
       "    <tr>\n",
       "      <th>1</th>\n",
       "      <td>53</td>\n",
       "      <td>069</td>\n",
       "      <td>01513275</td>\n",
       "      <td>53069</td>\n",
       "      <td>0500000US53069</td>\n",
       "      <td>Wahkiakum</td>\n",
       "      <td>Wahkiakum County</td>\n",
       "      <td>06</td>\n",
       "      <td>H1</td>\n",
       "      <td>G4020</td>\n",
       "      <td>NaN</td>\n",
       "      <td>NaN</td>\n",
       "      <td>NaN</td>\n",
       "      <td>A</td>\n",
       "      <td>680980771</td>\n",
       "      <td>61564427</td>\n",
       "      <td>+46.2946377</td>\n",
       "      <td>-123.4244583</td>\n",
       "      <td>POLYGON ((-123.72755 46.26449, -123.72755 46.2...</td>\n",
       "    </tr>\n",
       "    <tr>\n",
       "      <th>2</th>\n",
       "      <td>35</td>\n",
       "      <td>011</td>\n",
       "      <td>00933054</td>\n",
       "      <td>35011</td>\n",
       "      <td>0500000US35011</td>\n",
       "      <td>De Baca</td>\n",
       "      <td>De Baca County</td>\n",
       "      <td>06</td>\n",
       "      <td>H1</td>\n",
       "      <td>G4020</td>\n",
       "      <td>NaN</td>\n",
       "      <td>NaN</td>\n",
       "      <td>NaN</td>\n",
       "      <td>A</td>\n",
       "      <td>6016818946</td>\n",
       "      <td>29090018</td>\n",
       "      <td>+34.3592729</td>\n",
       "      <td>-104.3686961</td>\n",
       "      <td>POLYGON ((-104.89337 34.08894, -104.89337 34.0...</td>\n",
       "    </tr>\n",
       "    <tr>\n",
       "      <th>3</th>\n",
       "      <td>31</td>\n",
       "      <td>109</td>\n",
       "      <td>00835876</td>\n",
       "      <td>31109</td>\n",
       "      <td>0500000US31109</td>\n",
       "      <td>Lancaster</td>\n",
       "      <td>Lancaster County</td>\n",
       "      <td>06</td>\n",
       "      <td>H1</td>\n",
       "      <td>G4020</td>\n",
       "      <td>339</td>\n",
       "      <td>30700</td>\n",
       "      <td>NaN</td>\n",
       "      <td>A</td>\n",
       "      <td>2169269688</td>\n",
       "      <td>22850324</td>\n",
       "      <td>+40.7835474</td>\n",
       "      <td>-096.6886584</td>\n",
       "      <td>POLYGON ((-96.68493 40.52330, -96.69219 40.523...</td>\n",
       "    </tr>\n",
       "    <tr>\n",
       "      <th>4</th>\n",
       "      <td>31</td>\n",
       "      <td>129</td>\n",
       "      <td>00835886</td>\n",
       "      <td>31129</td>\n",
       "      <td>0500000US31129</td>\n",
       "      <td>Nuckolls</td>\n",
       "      <td>Nuckolls County</td>\n",
       "      <td>06</td>\n",
       "      <td>H1</td>\n",
       "      <td>G4020</td>\n",
       "      <td>NaN</td>\n",
       "      <td>NaN</td>\n",
       "      <td>NaN</td>\n",
       "      <td>A</td>\n",
       "      <td>1489645187</td>\n",
       "      <td>1718484</td>\n",
       "      <td>+40.1764918</td>\n",
       "      <td>-098.0468422</td>\n",
       "      <td>POLYGON ((-98.27370 40.11840, -98.27374 40.122...</td>\n",
       "    </tr>\n",
       "  </tbody>\n",
       "</table>\n",
       "</div>"
      ],
      "text/plain": [
       "  STATEFP COUNTYFP  COUNTYNS  GEOID         GEOIDFQ       NAME  \\\n",
       "0      31      039  00835841  31039  0500000US31039     Cuming   \n",
       "1      53      069  01513275  53069  0500000US53069  Wahkiakum   \n",
       "2      35      011  00933054  35011  0500000US35011    De Baca   \n",
       "3      31      109  00835876  31109  0500000US31109  Lancaster   \n",
       "4      31      129  00835886  31129  0500000US31129   Nuckolls   \n",
       "\n",
       "           NAMELSAD LSAD CLASSFP  MTFCC CSAFP CBSAFP METDIVFP FUNCSTAT  \\\n",
       "0     Cuming County   06      H1  G4020   NaN    NaN      NaN        A   \n",
       "1  Wahkiakum County   06      H1  G4020   NaN    NaN      NaN        A   \n",
       "2    De Baca County   06      H1  G4020   NaN    NaN      NaN        A   \n",
       "3  Lancaster County   06      H1  G4020   339  30700      NaN        A   \n",
       "4   Nuckolls County   06      H1  G4020   NaN    NaN      NaN        A   \n",
       "\n",
       "        ALAND    AWATER     INTPTLAT      INTPTLON  \\\n",
       "0  1477563029  10772508  +41.9158651  -096.7885168   \n",
       "1   680980771  61564427  +46.2946377  -123.4244583   \n",
       "2  6016818946  29090018  +34.3592729  -104.3686961   \n",
       "3  2169269688  22850324  +40.7835474  -096.6886584   \n",
       "4  1489645187   1718484  +40.1764918  -098.0468422   \n",
       "\n",
       "                                            geometry  \n",
       "0  POLYGON ((-96.55515 41.91587, -96.55515 41.914...  \n",
       "1  POLYGON ((-123.72755 46.26449, -123.72755 46.2...  \n",
       "2  POLYGON ((-104.89337 34.08894, -104.89337 34.0...  \n",
       "3  POLYGON ((-96.68493 40.52330, -96.69219 40.523...  \n",
       "4  POLYGON ((-98.27370 40.11840, -98.27374 40.122...  "
      ]
     },
     "execution_count": 5,
     "metadata": {},
     "output_type": "execute_result"
    }
   ],
   "source": [
    "# Creating a file path for the county shape file with os\n",
    "fp= os.path.join('data', 'tl_2023_us_county.shp')\n",
    "fp\n",
    "# Reading the file path to the counties shapefile and assigning it to a variable named \"counties\"\n",
    "counties= gpd.read_file(fp)\n",
    "# Looking at the first 5 rows of the counties shapefile \n",
    "counties.head()"
   ]
  },
  {
   "cell_type": "markdown",
   "metadata": {},
   "source": [
    "## 5. Prepare spills data\n",
    "\n",
    "This section refers to the `spills` dataframe. \n",
    "Check the outputs carefully, they will give you information you will need to use in the next exercises.\n",
    "\n",
    "### 5.A. Exploration\n",
    "\n",
    "In the next cells:\n",
    "\n",
    "a. Check the dataframe's head.\n",
    "\n",
    "b. Check the data types of the columns.\n",
    "\n",
    "c. Check the unique values in the `material_family` column.\n",
    "\n",
    "d. Check the unique values in the `county` column.\n",
    "\n",
    "You can add other cells for preliminary data exploration."
   ]
  },
  {
   "cell_type": "code",
   "execution_count": 6,
   "metadata": {
    "tags": []
   },
   "outputs": [
    {
     "data": {
      "text/html": [
       "<div>\n",
       "<style scoped>\n",
       "    .dataframe tbody tr th:only-of-type {\n",
       "        vertical-align: middle;\n",
       "    }\n",
       "\n",
       "    .dataframe tbody tr th {\n",
       "        vertical-align: top;\n",
       "    }\n",
       "\n",
       "    .dataframe thead th {\n",
       "        text-align: right;\n",
       "    }\n",
       "</style>\n",
       "<table border=\"1\" class=\"dataframe\">\n",
       "  <thead>\n",
       "    <tr style=\"text-align: right;\">\n",
       "      <th></th>\n",
       "      <th>Spill Number</th>\n",
       "      <th>Program Facility Name</th>\n",
       "      <th>Street 1</th>\n",
       "      <th>Street 2</th>\n",
       "      <th>Locality</th>\n",
       "      <th>County</th>\n",
       "      <th>ZIP Code</th>\n",
       "      <th>SWIS Code</th>\n",
       "      <th>DEC Region</th>\n",
       "      <th>Spill Date</th>\n",
       "      <th>Received Date</th>\n",
       "      <th>Contributing Factor</th>\n",
       "      <th>Waterbody</th>\n",
       "      <th>Source</th>\n",
       "      <th>Close Date</th>\n",
       "      <th>Material Name</th>\n",
       "      <th>Material Family</th>\n",
       "      <th>Quantity</th>\n",
       "      <th>Units</th>\n",
       "      <th>Recovered</th>\n",
       "    </tr>\n",
       "  </thead>\n",
       "  <tbody>\n",
       "    <tr>\n",
       "      <th>0</th>\n",
       "      <td>107132</td>\n",
       "      <td>MH 864</td>\n",
       "      <td>RT 119/MILLWOOD RD</td>\n",
       "      <td>NaN</td>\n",
       "      <td>ELMSFORD</td>\n",
       "      <td>Westchester</td>\n",
       "      <td>NaN</td>\n",
       "      <td>6000</td>\n",
       "      <td>3</td>\n",
       "      <td>10/10/2001</td>\n",
       "      <td>10/10/2001</td>\n",
       "      <td>Unknown</td>\n",
       "      <td>NaN</td>\n",
       "      <td>Unknown</td>\n",
       "      <td>10/15/2001</td>\n",
       "      <td>unknown material</td>\n",
       "      <td>Other</td>\n",
       "      <td>10.0</td>\n",
       "      <td>Gallons</td>\n",
       "      <td>0.0</td>\n",
       "    </tr>\n",
       "    <tr>\n",
       "      <th>1</th>\n",
       "      <td>405586</td>\n",
       "      <td>BOWRY BAY</td>\n",
       "      <td>WATER POLL CONTROL</td>\n",
       "      <td>NaN</td>\n",
       "      <td>QUEENS</td>\n",
       "      <td>Queens</td>\n",
       "      <td>NaN</td>\n",
       "      <td>4101</td>\n",
       "      <td>2</td>\n",
       "      <td>08/21/2004</td>\n",
       "      <td>08/21/2004</td>\n",
       "      <td>Other</td>\n",
       "      <td>EAST RIVER</td>\n",
       "      <td>Unknown</td>\n",
       "      <td>09/17/2004</td>\n",
       "      <td>raw sewage</td>\n",
       "      <td>Other</td>\n",
       "      <td>0.0</td>\n",
       "      <td>NaN</td>\n",
       "      <td>0.0</td>\n",
       "    </tr>\n",
       "    <tr>\n",
       "      <th>2</th>\n",
       "      <td>405586</td>\n",
       "      <td>BOWRY BAY</td>\n",
       "      <td>WATER POLL CONTROL</td>\n",
       "      <td>NaN</td>\n",
       "      <td>QUEENS</td>\n",
       "      <td>Queens</td>\n",
       "      <td>NaN</td>\n",
       "      <td>4101</td>\n",
       "      <td>2</td>\n",
       "      <td>08/21/2004</td>\n",
       "      <td>08/21/2004</td>\n",
       "      <td>Other</td>\n",
       "      <td>EAST RIVER</td>\n",
       "      <td>Unknown</td>\n",
       "      <td>09/17/2004</td>\n",
       "      <td>raw sewage</td>\n",
       "      <td>Other</td>\n",
       "      <td>0.0</td>\n",
       "      <td>Pounds</td>\n",
       "      <td>0.0</td>\n",
       "    </tr>\n",
       "    <tr>\n",
       "      <th>3</th>\n",
       "      <td>204667</td>\n",
       "      <td>POLE 16091</td>\n",
       "      <td>GRACE AVE/BURKE AVE</td>\n",
       "      <td>NaN</td>\n",
       "      <td>BRONX</td>\n",
       "      <td>Bronx</td>\n",
       "      <td>NaN</td>\n",
       "      <td>301</td>\n",
       "      <td>2</td>\n",
       "      <td>08/02/2002</td>\n",
       "      <td>08/02/2002</td>\n",
       "      <td>Equipment Failure</td>\n",
       "      <td>NaN</td>\n",
       "      <td>Commercial/Industrial</td>\n",
       "      <td>10/28/2002</td>\n",
       "      <td>transformer oil</td>\n",
       "      <td>Petroleum</td>\n",
       "      <td>1.0</td>\n",
       "      <td>Gallons</td>\n",
       "      <td>0.0</td>\n",
       "    </tr>\n",
       "    <tr>\n",
       "      <th>4</th>\n",
       "      <td>210559</td>\n",
       "      <td>POLE ON</td>\n",
       "      <td>FERDALE LOMIS RD / RT 52</td>\n",
       "      <td>NaN</td>\n",
       "      <td>LIBERTY</td>\n",
       "      <td>Sullivan</td>\n",
       "      <td>NaN</td>\n",
       "      <td>5336</td>\n",
       "      <td>3</td>\n",
       "      <td>01/20/2003</td>\n",
       "      <td>01/20/2003</td>\n",
       "      <td>Traffic Accident</td>\n",
       "      <td>NaN</td>\n",
       "      <td>Commercial/Industrial</td>\n",
       "      <td>01/22/2003</td>\n",
       "      <td>transformer oil</td>\n",
       "      <td>Petroleum</td>\n",
       "      <td>6.0</td>\n",
       "      <td>Gallons</td>\n",
       "      <td>6.0</td>\n",
       "    </tr>\n",
       "  </tbody>\n",
       "</table>\n",
       "</div>"
      ],
      "text/plain": [
       "   Spill Number Program Facility Name                  Street 1 Street 2  \\\n",
       "0        107132                MH 864        RT 119/MILLWOOD RD      NaN   \n",
       "1        405586             BOWRY BAY        WATER POLL CONTROL      NaN   \n",
       "2        405586             BOWRY BAY        WATER POLL CONTROL      NaN   \n",
       "3        204667            POLE 16091       GRACE AVE/BURKE AVE      NaN   \n",
       "4        210559               POLE ON  FERDALE LOMIS RD / RT 52      NaN   \n",
       "\n",
       "   Locality       County ZIP Code  SWIS Code  DEC Region  Spill Date  \\\n",
       "0  ELMSFORD  Westchester      NaN       6000           3  10/10/2001   \n",
       "1    QUEENS       Queens      NaN       4101           2  08/21/2004   \n",
       "2    QUEENS       Queens      NaN       4101           2  08/21/2004   \n",
       "3     BRONX        Bronx      NaN        301           2  08/02/2002   \n",
       "4   LIBERTY     Sullivan      NaN       5336           3  01/20/2003   \n",
       "\n",
       "  Received Date Contributing Factor   Waterbody                 Source  \\\n",
       "0    10/10/2001             Unknown         NaN                Unknown   \n",
       "1    08/21/2004               Other  EAST RIVER                Unknown   \n",
       "2    08/21/2004               Other  EAST RIVER                Unknown   \n",
       "3    08/02/2002   Equipment Failure         NaN  Commercial/Industrial   \n",
       "4    01/20/2003    Traffic Accident         NaN  Commercial/Industrial   \n",
       "\n",
       "   Close Date     Material Name Material Family  Quantity    Units  Recovered  \n",
       "0  10/15/2001  unknown material           Other      10.0  Gallons        0.0  \n",
       "1  09/17/2004        raw sewage           Other       0.0      NaN        0.0  \n",
       "2  09/17/2004        raw sewage           Other       0.0   Pounds        0.0  \n",
       "3  10/28/2002   transformer oil       Petroleum       1.0  Gallons        0.0  \n",
       "4  01/22/2003   transformer oil       Petroleum       6.0  Gallons        6.0  "
      ]
     },
     "execution_count": 6,
     "metadata": {},
     "output_type": "execute_result"
    }
   ],
   "source": [
    "# a. Looking at the first 5 rows (observations) in the spills dataframe\n",
    "spills.head()"
   ]
  },
  {
   "cell_type": "code",
   "execution_count": 7,
   "metadata": {
    "tags": []
   },
   "outputs": [
    {
     "data": {
      "text/plain": [
       "Spill Number               int64\n",
       "Program Facility Name     object\n",
       "Street 1                  object\n",
       "Street 2                  object\n",
       "Locality                  object\n",
       "County                    object\n",
       "ZIP Code                  object\n",
       "SWIS Code                  int64\n",
       "DEC Region                 int64\n",
       "Spill Date                object\n",
       "Received Date             object\n",
       "Contributing Factor       object\n",
       "Waterbody                 object\n",
       "Source                    object\n",
       "Close Date                object\n",
       "Material Name             object\n",
       "Material Family           object\n",
       "Quantity                 float64\n",
       "Units                     object\n",
       "Recovered                float64\n",
       "dtype: object"
      ]
     },
     "execution_count": 7,
     "metadata": {},
     "output_type": "execute_result"
    }
   ],
   "source": [
    "# b. Looking at the data types of the columns in the spills data frame\n",
    "spills.dtypes"
   ]
  },
  {
   "cell_type": "code",
   "execution_count": 8,
   "metadata": {
    "tags": []
   },
   "outputs": [
    {
     "data": {
      "text/plain": [
       "array(['Other', 'Petroleum', 'Hazardous Material', 'Oxygenates'],\n",
       "      dtype=object)"
      ]
     },
     "execution_count": 8,
     "metadata": {},
     "output_type": "execute_result"
    }
   ],
   "source": [
    "# c. Looking at the unique values in the material_family column\n",
    "spills['Material Family'].unique()"
   ]
  },
  {
   "cell_type": "code",
   "execution_count": 9,
   "metadata": {
    "tags": []
   },
   "outputs": [
    {
     "data": {
      "text/plain": [
       "array(['Westchester', 'Queens', 'Bronx', 'Sullivan', 'Cortland',\n",
       "       'New York', 'Ulster', 'Kings', 'Orange', 'Dutchess', 'Onondaga',\n",
       "       'Saratoga', 'Cayuga', 'Oswego', 'Warren', 'Niagara', 'Rockland',\n",
       "       'Nassau', 'Jefferson', 'Schenectady', 'Albany', 'Monroe',\n",
       "       'Schuyler', 'St Lawrence', 'Richmond', 'Clinton', 'Lewis', 'Essex',\n",
       "       'Chenango', 'Erie', 'Livingston', 'Wayne', 'Suffolk', 'Orleans',\n",
       "       'Ontario', 'Genesee', 'Otsego', 'Tompkins', 'Madison', 'Chemung',\n",
       "       'Seneca', 'Oneida', 'Broome', 'Hamilton', 'Washington', 'Franklin',\n",
       "       'Columbia', 'Fulton', 'Herkimer', 'Schoharie', 'Rensselaer',\n",
       "       'Montgomery', 'Putnam', 'Delaware', 'New Jersey - Region 2',\n",
       "       'Steuben', 'Tioga', 'Chautauqua', 'Cattaraugus', 'Wyoming',\n",
       "       'Yates', 'Greene', 'Pennsylvania - Region 9', 'Allegany',\n",
       "       'New Jersey - Region 3 (N)', 'Cattaraugus Indian Reservation',\n",
       "       'New Jersey - Region 3 (T)', 'Canada - Region 6',\n",
       "       'Canada - Region 9', 'Pennsylvania - Region 8',\n",
       "       'Vermont - Region 5 (R)', 'Vermont - Region 4',\n",
       "       'Connecticut - Region 3 (N)', 'Pennsylvania - Region 3',\n",
       "       'Tuscarora Indian Reservation', 'Connecticut - Region 4',\n",
       "       'Connecticut - Region 3 (T)', 'Massachusetts - Region 4',\n",
       "       'Connecticut - Region 1', 'Canada - Region 8',\n",
       "       'Oil Springs Indian Reservation', 'Canada - Region 5',\n",
       "       'Poospatuck Indian Reservation', 'Onondaga Indian Reservation',\n",
       "       'Shinnecock Indian Reservation',\n",
       "       'St. Regis Indian Reservation - Region 5',\n",
       "       'Pennsylvania - Region 7'], dtype=object)"
      ]
     },
     "execution_count": 9,
     "metadata": {},
     "output_type": "execute_result"
    }
   ],
   "source": [
    "# d. Looking at the unique values in the county column\n",
    "spills['County'].unique()"
   ]
  },
  {
   "cell_type": "markdown",
   "metadata": {
    "deletable": false,
    "editable": false
   },
   "source": [
    "<!-- BEGIN QUESTION -->\n",
    "\n",
    "f. Use the next markdown cell to explain what information you obtained from the preliminary exploration. Use complete sentences."
   ]
  },
  {
   "cell_type": "markdown",
   "metadata": {
    "deletable": false,
    "editable": false
   },
   "source": [
    "<!-- END QUESTION -->\n",
    "\n",
    "*Your answer here.*"
   ]
  },
  {
   "cell_type": "markdown",
   "metadata": {
    "tags": []
   },
   "source": [
    "In part a, we viewed the first 5 rows/ observations of the data frame. This helps us to identify how many rows and columns there are, as well as give us a general idea of the column names and observations.\n",
    "\n",
    "In part b, we looked at the data types of the observations in each column (integer, object, float, etc.) This definitively tells us what the column names are, and tells us alot about the kinds of data being recorded in each one.\n",
    "\n",
    "In part c, we looked at all the possible character strings that the observations in the \"Material Family\" column could take the value of.\n",
    "\n",
    "In part d, we looked at all the possible character strings that the observations in the \"County\" column could take the value of."
   ]
  },
  {
   "cell_type": "markdown",
   "metadata": {},
   "source": [
    "### 5.B. Cleaning\n",
    "a. Simplify column names as needed.\n",
    "\n",
    "b. Update column data types as needed. If you're not sure if any data types are needed at this point, you may come back later to this cell."
   ]
  },
  {
   "cell_type": "code",
   "execution_count": 11,
   "metadata": {
    "tags": []
   },
   "outputs": [
    {
     "data": {
      "text/html": [
       "<div>\n",
       "<style scoped>\n",
       "    .dataframe tbody tr th:only-of-type {\n",
       "        vertical-align: middle;\n",
       "    }\n",
       "\n",
       "    .dataframe tbody tr th {\n",
       "        vertical-align: top;\n",
       "    }\n",
       "\n",
       "    .dataframe thead th {\n",
       "        text-align: right;\n",
       "    }\n",
       "</style>\n",
       "<table border=\"1\" class=\"dataframe\">\n",
       "  <thead>\n",
       "    <tr style=\"text-align: right;\">\n",
       "      <th></th>\n",
       "      <th>spill_number</th>\n",
       "      <th>program_facility_name</th>\n",
       "      <th>street_1</th>\n",
       "      <th>street_2</th>\n",
       "      <th>locality</th>\n",
       "      <th>county</th>\n",
       "      <th>zip_code</th>\n",
       "      <th>swis_code</th>\n",
       "      <th>dec_region</th>\n",
       "      <th>spill_date</th>\n",
       "      <th>received_date</th>\n",
       "      <th>contributing_factor</th>\n",
       "      <th>waterbody</th>\n",
       "      <th>source</th>\n",
       "      <th>close_date</th>\n",
       "      <th>material_name</th>\n",
       "      <th>material_family</th>\n",
       "      <th>quantity</th>\n",
       "      <th>units</th>\n",
       "      <th>recovered</th>\n",
       "    </tr>\n",
       "  </thead>\n",
       "  <tbody>\n",
       "    <tr>\n",
       "      <th>0</th>\n",
       "      <td>107132</td>\n",
       "      <td>MH 864</td>\n",
       "      <td>RT 119/MILLWOOD RD</td>\n",
       "      <td>NaN</td>\n",
       "      <td>ELMSFORD</td>\n",
       "      <td>Westchester</td>\n",
       "      <td>NaN</td>\n",
       "      <td>6000</td>\n",
       "      <td>3</td>\n",
       "      <td>10/10/2001</td>\n",
       "      <td>10/10/2001</td>\n",
       "      <td>Unknown</td>\n",
       "      <td>NaN</td>\n",
       "      <td>Unknown</td>\n",
       "      <td>10/15/2001</td>\n",
       "      <td>unknown material</td>\n",
       "      <td>Other</td>\n",
       "      <td>10.0</td>\n",
       "      <td>Gallons</td>\n",
       "      <td>0.0</td>\n",
       "    </tr>\n",
       "    <tr>\n",
       "      <th>1</th>\n",
       "      <td>405586</td>\n",
       "      <td>BOWRY BAY</td>\n",
       "      <td>WATER POLL CONTROL</td>\n",
       "      <td>NaN</td>\n",
       "      <td>QUEENS</td>\n",
       "      <td>Queens</td>\n",
       "      <td>NaN</td>\n",
       "      <td>4101</td>\n",
       "      <td>2</td>\n",
       "      <td>08/21/2004</td>\n",
       "      <td>08/21/2004</td>\n",
       "      <td>Other</td>\n",
       "      <td>EAST RIVER</td>\n",
       "      <td>Unknown</td>\n",
       "      <td>09/17/2004</td>\n",
       "      <td>raw sewage</td>\n",
       "      <td>Other</td>\n",
       "      <td>0.0</td>\n",
       "      <td>NaN</td>\n",
       "      <td>0.0</td>\n",
       "    </tr>\n",
       "    <tr>\n",
       "      <th>2</th>\n",
       "      <td>405586</td>\n",
       "      <td>BOWRY BAY</td>\n",
       "      <td>WATER POLL CONTROL</td>\n",
       "      <td>NaN</td>\n",
       "      <td>QUEENS</td>\n",
       "      <td>Queens</td>\n",
       "      <td>NaN</td>\n",
       "      <td>4101</td>\n",
       "      <td>2</td>\n",
       "      <td>08/21/2004</td>\n",
       "      <td>08/21/2004</td>\n",
       "      <td>Other</td>\n",
       "      <td>EAST RIVER</td>\n",
       "      <td>Unknown</td>\n",
       "      <td>09/17/2004</td>\n",
       "      <td>raw sewage</td>\n",
       "      <td>Other</td>\n",
       "      <td>0.0</td>\n",
       "      <td>Pounds</td>\n",
       "      <td>0.0</td>\n",
       "    </tr>\n",
       "    <tr>\n",
       "      <th>3</th>\n",
       "      <td>204667</td>\n",
       "      <td>POLE 16091</td>\n",
       "      <td>GRACE AVE/BURKE AVE</td>\n",
       "      <td>NaN</td>\n",
       "      <td>BRONX</td>\n",
       "      <td>Bronx</td>\n",
       "      <td>NaN</td>\n",
       "      <td>301</td>\n",
       "      <td>2</td>\n",
       "      <td>08/02/2002</td>\n",
       "      <td>08/02/2002</td>\n",
       "      <td>Equipment Failure</td>\n",
       "      <td>NaN</td>\n",
       "      <td>Commercial/Industrial</td>\n",
       "      <td>10/28/2002</td>\n",
       "      <td>transformer oil</td>\n",
       "      <td>Petroleum</td>\n",
       "      <td>1.0</td>\n",
       "      <td>Gallons</td>\n",
       "      <td>0.0</td>\n",
       "    </tr>\n",
       "    <tr>\n",
       "      <th>4</th>\n",
       "      <td>210559</td>\n",
       "      <td>POLE ON</td>\n",
       "      <td>FERDALE LOMIS RD / RT 52</td>\n",
       "      <td>NaN</td>\n",
       "      <td>LIBERTY</td>\n",
       "      <td>Sullivan</td>\n",
       "      <td>NaN</td>\n",
       "      <td>5336</td>\n",
       "      <td>3</td>\n",
       "      <td>01/20/2003</td>\n",
       "      <td>01/20/2003</td>\n",
       "      <td>Traffic Accident</td>\n",
       "      <td>NaN</td>\n",
       "      <td>Commercial/Industrial</td>\n",
       "      <td>01/22/2003</td>\n",
       "      <td>transformer oil</td>\n",
       "      <td>Petroleum</td>\n",
       "      <td>6.0</td>\n",
       "      <td>Gallons</td>\n",
       "      <td>6.0</td>\n",
       "    </tr>\n",
       "  </tbody>\n",
       "</table>\n",
       "</div>"
      ],
      "text/plain": [
       "   spill_number program_facility_name                  street_1 street_2  \\\n",
       "0        107132                MH 864        RT 119/MILLWOOD RD      NaN   \n",
       "1        405586             BOWRY BAY        WATER POLL CONTROL      NaN   \n",
       "2        405586             BOWRY BAY        WATER POLL CONTROL      NaN   \n",
       "3        204667            POLE 16091       GRACE AVE/BURKE AVE      NaN   \n",
       "4        210559               POLE ON  FERDALE LOMIS RD / RT 52      NaN   \n",
       "\n",
       "   locality       county zip_code  swis_code  dec_region  spill_date  \\\n",
       "0  ELMSFORD  Westchester      NaN       6000           3  10/10/2001   \n",
       "1    QUEENS       Queens      NaN       4101           2  08/21/2004   \n",
       "2    QUEENS       Queens      NaN       4101           2  08/21/2004   \n",
       "3     BRONX        Bronx      NaN        301           2  08/02/2002   \n",
       "4   LIBERTY     Sullivan      NaN       5336           3  01/20/2003   \n",
       "\n",
       "  received_date contributing_factor   waterbody                 source  \\\n",
       "0    10/10/2001             Unknown         NaN                Unknown   \n",
       "1    08/21/2004               Other  EAST RIVER                Unknown   \n",
       "2    08/21/2004               Other  EAST RIVER                Unknown   \n",
       "3    08/02/2002   Equipment Failure         NaN  Commercial/Industrial   \n",
       "4    01/20/2003    Traffic Accident         NaN  Commercial/Industrial   \n",
       "\n",
       "   close_date     material_name material_family  quantity    units  recovered  \n",
       "0  10/15/2001  unknown material           Other      10.0  Gallons        0.0  \n",
       "1  09/17/2004        raw sewage           Other       0.0      NaN        0.0  \n",
       "2  09/17/2004        raw sewage           Other       0.0   Pounds        0.0  \n",
       "3  10/28/2002   transformer oil       Petroleum       1.0  Gallons        0.0  \n",
       "4  01/22/2003   transformer oil       Petroleum       6.0  Gallons        6.0  "
      ]
     },
     "execution_count": 11,
     "metadata": {},
     "output_type": "execute_result"
    }
   ],
   "source": [
    "# a. Removing spaces in the column names and replaces with underscores, and making all labels lowercase\n",
    "spills.columns= (spills.columns.str.lower().str.replace(' ', '_'))\n",
    "\n",
    "# Checking to see if it worked\n",
    "spills.head()"
   ]
  },
  {
   "cell_type": "code",
   "execution_count": 12,
   "metadata": {
    "tags": []
   },
   "outputs": [],
   "source": [
    "# b. Making the spill_date column the datetime format\n",
    "spills.spill_date= pd.to_datetime(spills['spill_date'])"
   ]
  },
  {
   "cell_type": "markdown",
   "metadata": {},
   "source": [
    "### 5.C. Data selection\n",
    "\n",
    "a. Select data about petroleum spills that took place between January 1st 2023, and October 31st 2023 (including both dates). Store it in a variable named `petr_23`. The data selection should occur in a single line. You may add cells as needed."
   ]
  },
  {
   "cell_type": "code",
   "execution_count": 13,
   "metadata": {
    "tags": []
   },
   "outputs": [],
   "source": [
    "# a. Selecting data from January 1st, 2023 and October 31st, 2023 and assigning it to the petr_23 variable\n",
    "petr_23 =spills[(spills['spill_date'] > '2023-01-01') & (spills['spill_date'] < '2023-10-31') & (spills['material_family']== 'Petroleum')]"
   ]
  },
  {
   "cell_type": "markdown",
   "metadata": {
    "deletable": false,
    "editable": false
   },
   "source": [
    "<!-- BEGIN QUESTION -->\n",
    "\n",
    "b. Use `print()` and f-strings to print messages verifying that `petr_23` only has data for 2023 and from January through October.\n",
    "HINT: [pandas.Series.dt.year](https://pandas.pydata.org/docs/reference/api/pandas.Series.dt.year.html) and [pandas.Series.dt.month](https://pandas.pydata.org/docs/reference/api/pandas.Series.dt.month.html)."
   ]
  },
  {
   "cell_type": "code",
   "execution_count": 14,
   "metadata": {
    "tags": []
   },
   "outputs": [
    {
     "name": "stdout",
     "output_type": "stream",
     "text": [
      "The data was collected from the months: \n",
      "220        6\n",
      "221        6\n",
      "222        6\n",
      "223        6\n",
      "224        6\n",
      "          ..\n",
      "552614    10\n",
      "552619     7\n",
      "552727     1\n",
      "553016     5\n",
      "553100     8\n",
      "Name: spill_date, Length: 7183, dtype: int64 \n",
      "\n",
      "For the years: \n",
      "220       2023\n",
      "221       2023\n",
      "222       2023\n",
      "223       2023\n",
      "224       2023\n",
      "          ... \n",
      "552614    2023\n",
      "552619    2023\n",
      "552727    2023\n",
      "553016    2023\n",
      "553100    2023\n",
      "Name: spill_date, Length: 7183, dtype: int64\n"
     ]
    }
   ],
   "source": [
    "# b. Printing the filtered data values for the petr_23 column\n",
    "print(f\"The data was collected from the months: \\n{petr_23['spill_date'].dt.month} \\n\\nFor the years: \\n{petr_23['spill_date'].dt.year}\")"
   ]
  },
  {
   "cell_type": "markdown",
   "metadata": {
    "deletable": false,
    "editable": false
   },
   "source": [
    "<!-- END QUESTION -->\n",
    "\n",
    "<!-- BEGIN QUESTION -->\n",
    "\n",
    "c. Write tests using `assert` to verify that `petr_23` only has data for petroleum spills."
   ]
  },
  {
   "cell_type": "code",
   "execution_count": 15,
   "metadata": {
    "tags": []
   },
   "outputs": [],
   "source": [
    "# c. Using assert to verify that petr_23 only has data for petroleum spills\n",
    "assert petr_23['material_family'].unique() == 'Petroleum', \"Not just Petroleum!\""
   ]
  },
  {
   "cell_type": "markdown",
   "metadata": {
    "deletable": false,
    "editable": false
   },
   "source": [
    "<!-- END QUESTION -->\n",
    "\n",
    "### 5.D. Data aggregation\n",
    "\n",
    "Create new data frame named `spills_per_county` with the number of petroleum spills per county from January to October 2023 (i.e. use the `petr_23` dataframe).\n",
    "\n",
    "The resulting `spills_per_county` dataframe must be as follows:\n",
    "\n",
    "- Index: integer numbers starting from 0\n",
    "- Data frame has two columns only:\n",
    "    - Column one: county names, column name = `county`\n",
    "    - Column two: number of petroleum spills per county in 2023, column name = `n_spills`\n",
    "\n",
    "You may add cells if needed.\n"
   ]
  },
  {
   "cell_type": "code",
   "execution_count": 17,
   "metadata": {
    "tags": []
   },
   "outputs": [
    {
     "data": {
      "text/html": [
       "<div>\n",
       "<style scoped>\n",
       "    .dataframe tbody tr th:only-of-type {\n",
       "        vertical-align: middle;\n",
       "    }\n",
       "\n",
       "    .dataframe tbody tr th {\n",
       "        vertical-align: top;\n",
       "    }\n",
       "\n",
       "    .dataframe thead th {\n",
       "        text-align: right;\n",
       "    }\n",
       "</style>\n",
       "<table border=\"1\" class=\"dataframe\">\n",
       "  <thead>\n",
       "    <tr style=\"text-align: right;\">\n",
       "      <th></th>\n",
       "      <th>county</th>\n",
       "      <th>n_spills</th>\n",
       "    </tr>\n",
       "  </thead>\n",
       "  <tbody>\n",
       "    <tr>\n",
       "      <th>0</th>\n",
       "      <td>Albany</td>\n",
       "      <td>205</td>\n",
       "    </tr>\n",
       "    <tr>\n",
       "      <th>1</th>\n",
       "      <td>Allegany</td>\n",
       "      <td>30</td>\n",
       "    </tr>\n",
       "    <tr>\n",
       "      <th>2</th>\n",
       "      <td>Bronx</td>\n",
       "      <td>143</td>\n",
       "    </tr>\n",
       "    <tr>\n",
       "      <th>3</th>\n",
       "      <td>Broome</td>\n",
       "      <td>75</td>\n",
       "    </tr>\n",
       "    <tr>\n",
       "      <th>4</th>\n",
       "      <td>Cattaraugus</td>\n",
       "      <td>47</td>\n",
       "    </tr>\n",
       "    <tr>\n",
       "      <th>...</th>\n",
       "      <td>...</td>\n",
       "      <td>...</td>\n",
       "    </tr>\n",
       "    <tr>\n",
       "      <th>59</th>\n",
       "      <td>Washington</td>\n",
       "      <td>96</td>\n",
       "    </tr>\n",
       "    <tr>\n",
       "      <th>60</th>\n",
       "      <td>Wayne</td>\n",
       "      <td>38</td>\n",
       "    </tr>\n",
       "    <tr>\n",
       "      <th>61</th>\n",
       "      <td>Westchester</td>\n",
       "      <td>739</td>\n",
       "    </tr>\n",
       "    <tr>\n",
       "      <th>62</th>\n",
       "      <td>Wyoming</td>\n",
       "      <td>24</td>\n",
       "    </tr>\n",
       "    <tr>\n",
       "      <th>63</th>\n",
       "      <td>Yates</td>\n",
       "      <td>6</td>\n",
       "    </tr>\n",
       "  </tbody>\n",
       "</table>\n",
       "<p>64 rows × 2 columns</p>\n",
       "</div>"
      ],
      "text/plain": [
       "         county  n_spills\n",
       "0        Albany       205\n",
       "1      Allegany        30\n",
       "2         Bronx       143\n",
       "3        Broome        75\n",
       "4   Cattaraugus        47\n",
       "..          ...       ...\n",
       "59   Washington        96\n",
       "60        Wayne        38\n",
       "61  Westchester       739\n",
       "62      Wyoming        24\n",
       "63        Yates         6\n",
       "\n",
       "[64 rows x 2 columns]"
      ]
     },
     "execution_count": 17,
     "metadata": {},
     "output_type": "execute_result"
    }
   ],
   "source": [
    "# Creating the varaible spills_per_county\n",
    "# Taking the count of the spills by county\n",
    "grouped_petr= petr_23['spill_number'].groupby(petr_23['county']).count()\n",
    "\n",
    "# Assigning the columns from the grouped_spills series into a data frame\n",
    "data = {'county': grouped_petr.index,\n",
    "        'n_spills': grouped_petr.values}\n",
    "\n",
    "spills_per_county= pd.DataFrame(data)\n",
    "\n",
    "# Changing the index to a range of numbers from 0 to 63\n",
    "spills_per_county.index= range(0,64)\n",
    "\n",
    "spills_per_county\n"
   ]
  },
  {
   "cell_type": "markdown",
   "metadata": {},
   "source": [
    "## 6. Prepare counties data\n",
    "\n",
    "This section refers to the `counties` geo-dataframe. \n",
    "Check the outputs carefully, they will give you context about the next exercises.\n",
    "\n",
    "### 6.A. Exploration\n",
    "\n",
    "In the next cells:\n",
    "\n",
    "a. Check the geo-dataframe's head.\n",
    "\n",
    "b. Check the data types of the columns.\n",
    "\n",
    "c. Check the geo-dataframe's CRS.\n",
    "\n",
    "d. Plot the geo-dataframe.\n",
    "\n",
    "You can add any other cells of preliminary data exploration."
   ]
  },
  {
   "cell_type": "code",
   "execution_count": 18,
   "metadata": {
    "tags": []
   },
   "outputs": [
    {
     "data": {
      "text/html": [
       "<div>\n",
       "<style scoped>\n",
       "    .dataframe tbody tr th:only-of-type {\n",
       "        vertical-align: middle;\n",
       "    }\n",
       "\n",
       "    .dataframe tbody tr th {\n",
       "        vertical-align: top;\n",
       "    }\n",
       "\n",
       "    .dataframe thead th {\n",
       "        text-align: right;\n",
       "    }\n",
       "</style>\n",
       "<table border=\"1\" class=\"dataframe\">\n",
       "  <thead>\n",
       "    <tr style=\"text-align: right;\">\n",
       "      <th></th>\n",
       "      <th>STATEFP</th>\n",
       "      <th>COUNTYFP</th>\n",
       "      <th>COUNTYNS</th>\n",
       "      <th>GEOID</th>\n",
       "      <th>GEOIDFQ</th>\n",
       "      <th>NAME</th>\n",
       "      <th>NAMELSAD</th>\n",
       "      <th>LSAD</th>\n",
       "      <th>CLASSFP</th>\n",
       "      <th>MTFCC</th>\n",
       "      <th>CSAFP</th>\n",
       "      <th>CBSAFP</th>\n",
       "      <th>METDIVFP</th>\n",
       "      <th>FUNCSTAT</th>\n",
       "      <th>ALAND</th>\n",
       "      <th>AWATER</th>\n",
       "      <th>INTPTLAT</th>\n",
       "      <th>INTPTLON</th>\n",
       "      <th>geometry</th>\n",
       "    </tr>\n",
       "  </thead>\n",
       "  <tbody>\n",
       "    <tr>\n",
       "      <th>0</th>\n",
       "      <td>31</td>\n",
       "      <td>039</td>\n",
       "      <td>00835841</td>\n",
       "      <td>31039</td>\n",
       "      <td>0500000US31039</td>\n",
       "      <td>Cuming</td>\n",
       "      <td>Cuming County</td>\n",
       "      <td>06</td>\n",
       "      <td>H1</td>\n",
       "      <td>G4020</td>\n",
       "      <td>NaN</td>\n",
       "      <td>NaN</td>\n",
       "      <td>NaN</td>\n",
       "      <td>A</td>\n",
       "      <td>1477563029</td>\n",
       "      <td>10772508</td>\n",
       "      <td>+41.9158651</td>\n",
       "      <td>-096.7885168</td>\n",
       "      <td>POLYGON ((-96.55515 41.91587, -96.55515 41.914...</td>\n",
       "    </tr>\n",
       "    <tr>\n",
       "      <th>1</th>\n",
       "      <td>53</td>\n",
       "      <td>069</td>\n",
       "      <td>01513275</td>\n",
       "      <td>53069</td>\n",
       "      <td>0500000US53069</td>\n",
       "      <td>Wahkiakum</td>\n",
       "      <td>Wahkiakum County</td>\n",
       "      <td>06</td>\n",
       "      <td>H1</td>\n",
       "      <td>G4020</td>\n",
       "      <td>NaN</td>\n",
       "      <td>NaN</td>\n",
       "      <td>NaN</td>\n",
       "      <td>A</td>\n",
       "      <td>680980771</td>\n",
       "      <td>61564427</td>\n",
       "      <td>+46.2946377</td>\n",
       "      <td>-123.4244583</td>\n",
       "      <td>POLYGON ((-123.72755 46.26449, -123.72755 46.2...</td>\n",
       "    </tr>\n",
       "    <tr>\n",
       "      <th>2</th>\n",
       "      <td>35</td>\n",
       "      <td>011</td>\n",
       "      <td>00933054</td>\n",
       "      <td>35011</td>\n",
       "      <td>0500000US35011</td>\n",
       "      <td>De Baca</td>\n",
       "      <td>De Baca County</td>\n",
       "      <td>06</td>\n",
       "      <td>H1</td>\n",
       "      <td>G4020</td>\n",
       "      <td>NaN</td>\n",
       "      <td>NaN</td>\n",
       "      <td>NaN</td>\n",
       "      <td>A</td>\n",
       "      <td>6016818946</td>\n",
       "      <td>29090018</td>\n",
       "      <td>+34.3592729</td>\n",
       "      <td>-104.3686961</td>\n",
       "      <td>POLYGON ((-104.89337 34.08894, -104.89337 34.0...</td>\n",
       "    </tr>\n",
       "    <tr>\n",
       "      <th>3</th>\n",
       "      <td>31</td>\n",
       "      <td>109</td>\n",
       "      <td>00835876</td>\n",
       "      <td>31109</td>\n",
       "      <td>0500000US31109</td>\n",
       "      <td>Lancaster</td>\n",
       "      <td>Lancaster County</td>\n",
       "      <td>06</td>\n",
       "      <td>H1</td>\n",
       "      <td>G4020</td>\n",
       "      <td>339</td>\n",
       "      <td>30700</td>\n",
       "      <td>NaN</td>\n",
       "      <td>A</td>\n",
       "      <td>2169269688</td>\n",
       "      <td>22850324</td>\n",
       "      <td>+40.7835474</td>\n",
       "      <td>-096.6886584</td>\n",
       "      <td>POLYGON ((-96.68493 40.52330, -96.69219 40.523...</td>\n",
       "    </tr>\n",
       "    <tr>\n",
       "      <th>4</th>\n",
       "      <td>31</td>\n",
       "      <td>129</td>\n",
       "      <td>00835886</td>\n",
       "      <td>31129</td>\n",
       "      <td>0500000US31129</td>\n",
       "      <td>Nuckolls</td>\n",
       "      <td>Nuckolls County</td>\n",
       "      <td>06</td>\n",
       "      <td>H1</td>\n",
       "      <td>G4020</td>\n",
       "      <td>NaN</td>\n",
       "      <td>NaN</td>\n",
       "      <td>NaN</td>\n",
       "      <td>A</td>\n",
       "      <td>1489645187</td>\n",
       "      <td>1718484</td>\n",
       "      <td>+40.1764918</td>\n",
       "      <td>-098.0468422</td>\n",
       "      <td>POLYGON ((-98.27370 40.11840, -98.27374 40.122...</td>\n",
       "    </tr>\n",
       "  </tbody>\n",
       "</table>\n",
       "</div>"
      ],
      "text/plain": [
       "  STATEFP COUNTYFP  COUNTYNS  GEOID         GEOIDFQ       NAME  \\\n",
       "0      31      039  00835841  31039  0500000US31039     Cuming   \n",
       "1      53      069  01513275  53069  0500000US53069  Wahkiakum   \n",
       "2      35      011  00933054  35011  0500000US35011    De Baca   \n",
       "3      31      109  00835876  31109  0500000US31109  Lancaster   \n",
       "4      31      129  00835886  31129  0500000US31129   Nuckolls   \n",
       "\n",
       "           NAMELSAD LSAD CLASSFP  MTFCC CSAFP CBSAFP METDIVFP FUNCSTAT  \\\n",
       "0     Cuming County   06      H1  G4020   NaN    NaN      NaN        A   \n",
       "1  Wahkiakum County   06      H1  G4020   NaN    NaN      NaN        A   \n",
       "2    De Baca County   06      H1  G4020   NaN    NaN      NaN        A   \n",
       "3  Lancaster County   06      H1  G4020   339  30700      NaN        A   \n",
       "4   Nuckolls County   06      H1  G4020   NaN    NaN      NaN        A   \n",
       "\n",
       "        ALAND    AWATER     INTPTLAT      INTPTLON  \\\n",
       "0  1477563029  10772508  +41.9158651  -096.7885168   \n",
       "1   680980771  61564427  +46.2946377  -123.4244583   \n",
       "2  6016818946  29090018  +34.3592729  -104.3686961   \n",
       "3  2169269688  22850324  +40.7835474  -096.6886584   \n",
       "4  1489645187   1718484  +40.1764918  -098.0468422   \n",
       "\n",
       "                                            geometry  \n",
       "0  POLYGON ((-96.55515 41.91587, -96.55515 41.914...  \n",
       "1  POLYGON ((-123.72755 46.26449, -123.72755 46.2...  \n",
       "2  POLYGON ((-104.89337 34.08894, -104.89337 34.0...  \n",
       "3  POLYGON ((-96.68493 40.52330, -96.69219 40.523...  \n",
       "4  POLYGON ((-98.27370 40.11840, -98.27374 40.122...  "
      ]
     },
     "execution_count": 18,
     "metadata": {},
     "output_type": "execute_result"
    }
   ],
   "source": [
    "# a. Check the geo-dataframe's head\n",
    "counties.head()"
   ]
  },
  {
   "cell_type": "code",
   "execution_count": 19,
   "metadata": {
    "tags": []
   },
   "outputs": [
    {
     "data": {
      "text/plain": [
       "STATEFP       object\n",
       "COUNTYFP      object\n",
       "COUNTYNS      object\n",
       "GEOID         object\n",
       "GEOIDFQ       object\n",
       "NAME          object\n",
       "NAMELSAD      object\n",
       "LSAD          object\n",
       "CLASSFP       object\n",
       "MTFCC         object\n",
       "CSAFP         object\n",
       "CBSAFP        object\n",
       "METDIVFP      object\n",
       "FUNCSTAT      object\n",
       "ALAND          int64\n",
       "AWATER         int64\n",
       "INTPTLAT      object\n",
       "INTPTLON      object\n",
       "geometry    geometry\n",
       "dtype: object"
      ]
     },
     "execution_count": 19,
     "metadata": {},
     "output_type": "execute_result"
    }
   ],
   "source": [
    "# b. Check the data types of the columns\n",
    "counties.dtypes"
   ]
  },
  {
   "cell_type": "code",
   "execution_count": 20,
   "metadata": {
    "tags": []
   },
   "outputs": [
    {
     "data": {
      "text/plain": [
       "<Geographic 2D CRS: EPSG:4269>\n",
       "Name: NAD83\n",
       "Axis Info [ellipsoidal]:\n",
       "- Lat[north]: Geodetic latitude (degree)\n",
       "- Lon[east]: Geodetic longitude (degree)\n",
       "Area of Use:\n",
       "- name: North America - onshore and offshore: Canada - Alberta; British Columbia; Manitoba; New Brunswick; Newfoundland and Labrador; Northwest Territories; Nova Scotia; Nunavut; Ontario; Prince Edward Island; Quebec; Saskatchewan; Yukon. Puerto Rico. United States (USA) - Alabama; Alaska; Arizona; Arkansas; California; Colorado; Connecticut; Delaware; Florida; Georgia; Hawaii; Idaho; Illinois; Indiana; Iowa; Kansas; Kentucky; Louisiana; Maine; Maryland; Massachusetts; Michigan; Minnesota; Mississippi; Missouri; Montana; Nebraska; Nevada; New Hampshire; New Jersey; New Mexico; New York; North Carolina; North Dakota; Ohio; Oklahoma; Oregon; Pennsylvania; Rhode Island; South Carolina; South Dakota; Tennessee; Texas; Utah; Vermont; Virginia; Washington; West Virginia; Wisconsin; Wyoming. US Virgin Islands. British Virgin Islands.\n",
       "- bounds: (167.65, 14.92, -47.74, 86.46)\n",
       "Datum: North American Datum 1983\n",
       "- Ellipsoid: GRS 1980\n",
       "- Prime Meridian: Greenwich"
      ]
     },
     "execution_count": 20,
     "metadata": {},
     "output_type": "execute_result"
    }
   ],
   "source": [
    "# c. Check the geo-dataframe's CRS\n",
    "counties.crs"
   ]
  },
  {
   "cell_type": "code",
   "execution_count": 21,
   "metadata": {
    "tags": []
   },
   "outputs": [
    {
     "name": "stderr",
     "output_type": "stream",
     "text": [
      "/opt/python/3.7.13/lib/python3.7/site-packages/geopandas/plotting.py:51: ShapelyDeprecationWarning: The 'type' attribute is deprecated, and will be removed in the future. You can use the 'geom_type' attribute instead.\n",
      "  if geom is not None and geom.type.startswith(prefix) and not geom.is_empty:\n"
     ]
    },
    {
     "data": {
      "text/plain": [
       "<AxesSubplot:>"
      ]
     },
     "execution_count": 21,
     "metadata": {},
     "output_type": "execute_result"
    },
    {
     "data": {
      "image/png": "[encoded data removed]",
      "text/plain": [
       "<Figure size 640x480 with 1 Axes>"
      ]
     },
     "metadata": {},
     "output_type": "display_data"
    }
   ],
   "source": [
    "# d. Plot the geo-dataframe\n",
    "counties.plot()"
   ]
  },
  {
   "cell_type": "markdown",
   "metadata": {
    "deletable": false,
    "editable": false
   },
   "source": [
    "<!-- BEGIN QUESTION -->\n",
    "\n",
    "f. Use the next markdown cell to explain what information you obtained from the preliminary exploration. Use complete sentences."
   ]
  },
  {
   "cell_type": "markdown",
   "metadata": {
    "deletable": false,
    "editable": false
   },
   "source": [
    "*Your answer here.*"
   ]
  },
  {
   "cell_type": "markdown",
   "metadata": {},
   "source": [
    "- In part a, we viewed the first 5 rows/ observations of the data frame. This helps us to identify how many rows and columns there are, as well as give us a general idea of the column names and observations.\n",
    "\n",
    "- In part b, we looked at the data types of the observations in each column (integer, object, float, etc.) This definitively tells us what the column names are, and tells us alot about the kinds of data being recorded in each one (for example, this geo-dataframe is mostly objects)\n",
    "\n",
    "- In part c, we looked at all the coordinate reference systems of the data (how the data is projected as a map and what it will look like)\n",
    "\n",
    "- In part d, we looked at the plot of the data to get a definitive idea of what the shape of the data looks like (in this specific example, what country, boundaries, and where the data points lie)."
   ]
  },
  {
   "cell_type": "markdown",
   "metadata": {
    "deletable": false,
    "editable": false
   },
   "source": [
    "<!-- END QUESTION -->\n",
    "\n",
    "### 6.B. Cleaning\n",
    "\n",
    "Simplify column names as needed."
   ]
  },
  {
   "cell_type": "code",
   "execution_count": 22,
   "metadata": {
    "tags": []
   },
   "outputs": [
    {
     "data": {
      "text/html": [
       "<div>\n",
       "<style scoped>\n",
       "    .dataframe tbody tr th:only-of-type {\n",
       "        vertical-align: middle;\n",
       "    }\n",
       "\n",
       "    .dataframe tbody tr th {\n",
       "        vertical-align: top;\n",
       "    }\n",
       "\n",
       "    .dataframe thead th {\n",
       "        text-align: right;\n",
       "    }\n",
       "</style>\n",
       "<table border=\"1\" class=\"dataframe\">\n",
       "  <thead>\n",
       "    <tr style=\"text-align: right;\">\n",
       "      <th></th>\n",
       "      <th>statefp</th>\n",
       "      <th>countyfp</th>\n",
       "      <th>countyns</th>\n",
       "      <th>geoid</th>\n",
       "      <th>geoidfq</th>\n",
       "      <th>name</th>\n",
       "      <th>namelsad</th>\n",
       "      <th>lsad</th>\n",
       "      <th>classfp</th>\n",
       "      <th>mtfcc</th>\n",
       "      <th>csafp</th>\n",
       "      <th>cbsafp</th>\n",
       "      <th>metdivfp</th>\n",
       "      <th>funcstat</th>\n",
       "      <th>aland</th>\n",
       "      <th>awater</th>\n",
       "      <th>intptlat</th>\n",
       "      <th>intptlon</th>\n",
       "      <th>geometry</th>\n",
       "    </tr>\n",
       "  </thead>\n",
       "  <tbody>\n",
       "    <tr>\n",
       "      <th>0</th>\n",
       "      <td>31</td>\n",
       "      <td>039</td>\n",
       "      <td>00835841</td>\n",
       "      <td>31039</td>\n",
       "      <td>0500000US31039</td>\n",
       "      <td>Cuming</td>\n",
       "      <td>Cuming County</td>\n",
       "      <td>06</td>\n",
       "      <td>H1</td>\n",
       "      <td>G4020</td>\n",
       "      <td>NaN</td>\n",
       "      <td>NaN</td>\n",
       "      <td>NaN</td>\n",
       "      <td>A</td>\n",
       "      <td>1477563029</td>\n",
       "      <td>10772508</td>\n",
       "      <td>+41.9158651</td>\n",
       "      <td>-096.7885168</td>\n",
       "      <td>POLYGON ((-96.55515 41.91587, -96.55515 41.914...</td>\n",
       "    </tr>\n",
       "    <tr>\n",
       "      <th>1</th>\n",
       "      <td>53</td>\n",
       "      <td>069</td>\n",
       "      <td>01513275</td>\n",
       "      <td>53069</td>\n",
       "      <td>0500000US53069</td>\n",
       "      <td>Wahkiakum</td>\n",
       "      <td>Wahkiakum County</td>\n",
       "      <td>06</td>\n",
       "      <td>H1</td>\n",
       "      <td>G4020</td>\n",
       "      <td>NaN</td>\n",
       "      <td>NaN</td>\n",
       "      <td>NaN</td>\n",
       "      <td>A</td>\n",
       "      <td>680980771</td>\n",
       "      <td>61564427</td>\n",
       "      <td>+46.2946377</td>\n",
       "      <td>-123.4244583</td>\n",
       "      <td>POLYGON ((-123.72755 46.26449, -123.72755 46.2...</td>\n",
       "    </tr>\n",
       "    <tr>\n",
       "      <th>2</th>\n",
       "      <td>35</td>\n",
       "      <td>011</td>\n",
       "      <td>00933054</td>\n",
       "      <td>35011</td>\n",
       "      <td>0500000US35011</td>\n",
       "      <td>De Baca</td>\n",
       "      <td>De Baca County</td>\n",
       "      <td>06</td>\n",
       "      <td>H1</td>\n",
       "      <td>G4020</td>\n",
       "      <td>NaN</td>\n",
       "      <td>NaN</td>\n",
       "      <td>NaN</td>\n",
       "      <td>A</td>\n",
       "      <td>6016818946</td>\n",
       "      <td>29090018</td>\n",
       "      <td>+34.3592729</td>\n",
       "      <td>-104.3686961</td>\n",
       "      <td>POLYGON ((-104.89337 34.08894, -104.89337 34.0...</td>\n",
       "    </tr>\n",
       "  </tbody>\n",
       "</table>\n",
       "</div>"
      ],
      "text/plain": [
       "  statefp countyfp  countyns  geoid         geoidfq       name  \\\n",
       "0      31      039  00835841  31039  0500000US31039     Cuming   \n",
       "1      53      069  01513275  53069  0500000US53069  Wahkiakum   \n",
       "2      35      011  00933054  35011  0500000US35011    De Baca   \n",
       "\n",
       "           namelsad lsad classfp  mtfcc csafp cbsafp metdivfp funcstat  \\\n",
       "0     Cuming County   06      H1  G4020   NaN    NaN      NaN        A   \n",
       "1  Wahkiakum County   06      H1  G4020   NaN    NaN      NaN        A   \n",
       "2    De Baca County   06      H1  G4020   NaN    NaN      NaN        A   \n",
       "\n",
       "        aland    awater     intptlat      intptlon  \\\n",
       "0  1477563029  10772508  +41.9158651  -096.7885168   \n",
       "1   680980771  61564427  +46.2946377  -123.4244583   \n",
       "2  6016818946  29090018  +34.3592729  -104.3686961   \n",
       "\n",
       "                                            geometry  \n",
       "0  POLYGON ((-96.55515 41.91587, -96.55515 41.914...  \n",
       "1  POLYGON ((-123.72755 46.26449, -123.72755 46.2...  \n",
       "2  POLYGON ((-104.89337 34.08894, -104.89337 34.0...  "
      ]
     },
     "execution_count": 22,
     "metadata": {},
     "output_type": "execute_result"
    }
   ],
   "source": [
    "# Making all labels lowercase in the counties data set\n",
    "counties.columns= (counties.columns.str.lower())\n",
    "\n",
    "# Checking to see if the above code worked\n",
    "counties.head(3)\n"
   ]
  },
  {
   "cell_type": "markdown",
   "metadata": {},
   "source": [
    "### 6.C. Data selection\n",
    "\n",
    "Select all the counties for the state of New York in a new variable `ny_counties` and plot them."
   ]
  },
  {
   "cell_type": "code",
   "execution_count": 23,
   "metadata": {
    "tags": []
   },
   "outputs": [
    {
     "name": "stderr",
     "output_type": "stream",
     "text": [
      "/opt/python/3.7.13/lib/python3.7/site-packages/geopandas/plotting.py:51: ShapelyDeprecationWarning: The 'type' attribute is deprecated, and will be removed in the future. You can use the 'geom_type' attribute instead.\n",
      "  if geom is not None and geom.type.startswith(prefix) and not geom.is_empty:\n"
     ]
    },
    {
     "data": {
      "text/plain": [
       "<AxesSubplot:>"
      ]
     },
     "execution_count": 23,
     "metadata": {},
     "output_type": "execute_result"
    },
    {
     "data": {
      "image/png": "[encoded data removed]",
      "text/plain": [
       "<Figure size 640x480 with 1 Axes>"
      ]
     },
     "metadata": {},
     "output_type": "display_data"
    }
   ],
   "source": [
    "# Selecting all the new york counties ( I had to look up what the state FIPS is for NY)\n",
    "ny_counties= counties.loc[counties['statefp'] == '36']\n",
    "\n",
    "# Plotting the ny_counties data\n",
    "ny_counties.plot()"
   ]
  },
  {
   "cell_type": "markdown",
   "metadata": {},
   "source": [
    "## 7 Merging\n",
    "\n",
    "The goal of this section is to create a single dataframe with the number of spills per county and the corresponding geometries for each county.\n",
    "\n",
    "### 7.A. Explore data\n",
    "\n",
    "In the next cells:\n",
    "\n",
    "a. Print the names of counties in `ny_counties`, without repetition.\n",
    "\n",
    "b. Print the names of counties in `spills_per_county`, without repetition. Examine the differences in the outputs.\n"
   ]
  },
  {
   "cell_type": "code",
   "execution_count": 24,
   "metadata": {
    "tags": []
   },
   "outputs": [
    {
     "data": {
      "text/plain": [
       "array(['Steuben', 'Saratoga', 'Allegany', 'Oswego', 'Ulster',\n",
       "       'St. Lawrence', 'Schuyler', 'Essex', 'Suffolk', 'Hamilton',\n",
       "       'Dutchess', 'Otsego', 'Tompkins', 'Albany', 'Cayuga', 'Greene',\n",
       "       'Herkimer', 'Warren', 'Jefferson', 'Clinton', 'Nassau', 'Madison',\n",
       "       'Washington', 'Westchester', 'Lewis', 'Ontario', 'Cortland',\n",
       "       'Richmond', 'Erie', 'Putnam', 'Montgomery', 'Sullivan', 'Orleans',\n",
       "       'Oneida', 'Cattaraugus', 'Yates', 'Tioga', 'Monroe', 'Schoharie',\n",
       "       'Broome', 'Rensselaer', 'Seneca', 'Queens', 'Genesee', 'Wayne',\n",
       "       'Niagara', 'Kings', 'Chemung', 'Wyoming', 'New York', 'Columbia',\n",
       "       'Chautauqua', 'Franklin', 'Onondaga', 'Chenango', 'Fulton',\n",
       "       'Rockland', 'Livingston', 'Delaware', 'Orange', 'Schenectady',\n",
       "       'Bronx'], dtype=object)"
      ]
     },
     "execution_count": 24,
     "metadata": {},
     "output_type": "execute_result"
    }
   ],
   "source": [
    "# a. Printing the names of counties in ny_counties\n",
    "ny_county_names =ny_counties.name.unique()\n",
    "ny_county_names"
   ]
  },
  {
   "cell_type": "code",
   "execution_count": 25,
   "metadata": {
    "tags": []
   },
   "outputs": [
    {
     "data": {
      "text/plain": [
       "array(['Albany', 'Allegany', 'Bronx', 'Broome', 'Cattaraugus', 'Cayuga',\n",
       "       'Chautauqua', 'Chemung', 'Chenango', 'Clinton', 'Columbia',\n",
       "       'Cortland', 'Delaware', 'Dutchess', 'Erie', 'Essex', 'Franklin',\n",
       "       'Fulton', 'Genesee', 'Greene', 'Hamilton', 'Herkimer', 'Jefferson',\n",
       "       'Kings', 'Lewis', 'Livingston', 'Madison', 'Monroe', 'Montgomery',\n",
       "       'Nassau', 'New Jersey - Region 2', 'New York', 'Niagara', 'Oneida',\n",
       "       'Onondaga', 'Ontario', 'Orange', 'Orleans', 'Oswego', 'Otsego',\n",
       "       'Putnam', 'Queens', 'Rensselaer', 'Richmond', 'Rockland',\n",
       "       'Saratoga', 'Schenectady', 'Schoharie', 'Schuyler', 'Seneca',\n",
       "       'St Lawrence', 'Steuben', 'Suffolk', 'Sullivan', 'Tioga',\n",
       "       'Tompkins', 'Tuscarora Indian Reservation', 'Ulster', 'Warren',\n",
       "       'Washington', 'Wayne', 'Westchester', 'Wyoming', 'Yates'],\n",
       "      dtype=object)"
      ]
     },
     "execution_count": 25,
     "metadata": {},
     "output_type": "execute_result"
    }
   ],
   "source": [
    "# b. Printing the names of counties in spills_per_county\n",
    "spill_county_names =spills_per_county.county.unique()\n",
    "spill_county_names"
   ]
  },
  {
   "cell_type": "markdown",
   "metadata": {
    "deletable": false,
    "editable": false
   },
   "source": [
    "\n",
    "\n",
    "c. Which are the county names that are in `spills_per_county`, but not in `ny_counties`? Your answer should be a list of strings\n",
    "HINT: You can use the `numpy` function [`setdiff1d()`](https://numpy.org/doc/stable/reference/generated/numpy.setdiff1d.html), pay attention to the example in the documentation. Store your answer in the `diff_names` variable. \n",
    "\n"
   ]
  },
  {
   "cell_type": "code",
   "execution_count": 26,
   "metadata": {
    "tags": []
   },
   "outputs": [
    {
     "data": {
      "text/plain": [
       "array(['New Jersey - Region 2', 'St Lawrence',\n",
       "       'Tuscarora Indian Reservation'], dtype=object)"
      ]
     },
     "execution_count": 26,
     "metadata": {},
     "output_type": "execute_result"
    }
   ],
   "source": [
    "# Using np.setdiff1d() to find the values of the county column in spills_per_county that are not in the ny_counties data frame\n",
    "diff_names_spills = np.setdiff1d(spill_county_names, ny_county_names)\n",
    "diff_names_spills"
   ]
  },
  {
   "cell_type": "markdown",
   "metadata": {
    "deletable": false,
    "editable": false
   },
   "source": [
    "\n",
    "d. Which are the county names that are in `ny_counties`, but not in `spills_per_county`? Your answer should be a list of strings.\n"
   ]
  },
  {
   "cell_type": "code",
   "execution_count": 27,
   "metadata": {
    "tags": []
   },
   "outputs": [
    {
     "data": {
      "text/plain": [
       "array(['St. Lawrence'], dtype=object)"
      ]
     },
     "execution_count": 27,
     "metadata": {},
     "output_type": "execute_result"
    }
   ],
   "source": [
    "# Using np.setdiff1d() to find the ny_counties that are not in spills_per_county county column\n",
    "diff_names_ny = np.setdiff1d(ny_county_names, spill_county_names)\n",
    "diff_names_ny"
   ]
  },
  {
   "cell_type": "markdown",
   "metadata": {},
   "source": [
    "\n",
    "\n",
    "\n",
    "e. What is the number of spills in 'Tuscarora Indian Reservation'?\n"
   ]
  },
  {
   "cell_type": "code",
   "execution_count": 28,
   "metadata": {
    "tags": []
   },
   "outputs": [
    {
     "data": {
      "text/html": [
       "<div>\n",
       "<style scoped>\n",
       "    .dataframe tbody tr th:only-of-type {\n",
       "        vertical-align: middle;\n",
       "    }\n",
       "\n",
       "    .dataframe tbody tr th {\n",
       "        vertical-align: top;\n",
       "    }\n",
       "\n",
       "    .dataframe thead th {\n",
       "        text-align: right;\n",
       "    }\n",
       "</style>\n",
       "<table border=\"1\" class=\"dataframe\">\n",
       "  <thead>\n",
       "    <tr style=\"text-align: right;\">\n",
       "      <th></th>\n",
       "      <th>county</th>\n",
       "      <th>n_spills</th>\n",
       "    </tr>\n",
       "  </thead>\n",
       "  <tbody>\n",
       "    <tr>\n",
       "      <th>56</th>\n",
       "      <td>Tuscarora Indian Reservation</td>\n",
       "      <td>1</td>\n",
       "    </tr>\n",
       "  </tbody>\n",
       "</table>\n",
       "</div>"
      ],
      "text/plain": [
       "                          county  n_spills\n",
       "56  Tuscarora Indian Reservation         1"
      ]
     },
     "execution_count": 28,
     "metadata": {},
     "output_type": "execute_result"
    }
   ],
   "source": [
    "# e. Since the 'Tuscarora Indian Reservation' is only in the spills_per_county data frame, we can use the value from there alone\n",
    "Tuscarora_spills= spills_per_county[spills_per_county['county'] == 'Tuscarora Indian Reservation']\n",
    "Tuscarora_spills"
   ]
  },
  {
   "cell_type": "markdown",
   "metadata": {},
   "source": [
    "### 7.B. Data updates\n",
    "\n",
    "In the next cell, update 'St Lawrence' to 'St. Lawrence' in `spills_per_county` data frame and use an `assert` statement to verify that the update was successful.\n",
    "\n",
    "You may add cells if needed."
   ]
  },
  {
   "cell_type": "code",
   "execution_count": 29,
   "metadata": {
    "tags": []
   },
   "outputs": [],
   "source": [
    "# Updating the 'St Lawrence' to 'St. Lawrence' in spills_per_county\n",
    "spills_per_county['county']= spills_per_county['county'].replace('St Lawrence','St. Lawrence')\n",
    "\n",
    "# Using the assert function to see if any of the names in the county column still match \"St Lawrence\"\n",
    "spill_county_names_new =spills_per_county['county'].unique()\n",
    "\n",
    "assert spill_county_names_new.any() != 'St Lawrence', \"Still St Lawrence\""
   ]
  },
  {
   "cell_type": "markdown",
   "metadata": {},
   "source": [
    "### 7.C. Merge\n",
    "\n",
    "In the following cells:\n",
    "\n",
    "a. Use this cell to make any other updates needed for making an inner join of the `spills_per_county` and `ny_counties`. \n",
    "\n",
    "b. Over-write `ny_counties` as the  inner join of the `spills_per_county` and `ny_counties` dataframes.\n"
   ]
  },
  {
   "cell_type": "code",
   "execution_count": 30,
   "metadata": {
    "tags": []
   },
   "outputs": [
    {
     "name": "stderr",
     "output_type": "stream",
     "text": [
      "/opt/python/3.7.13/lib/python3.7/site-packages/pandas/core/frame.py:5047: SettingWithCopyWarning: \n",
      "A value is trying to be set on a copy of a slice from a DataFrame\n",
      "\n",
      "See the caveats in the documentation: https://pandas.pydata.org/pandas-docs/stable/user_guide/indexing.html#returning-a-view-versus-a-copy\n",
      "  errors=errors,\n"
     ]
    },
    {
     "data": {
      "text/plain": [
       "Index(['statefp', 'countyfp', 'countyns', 'geoid', 'geoidfq', 'county',\n",
       "       'namelsad', 'lsad', 'classfp', 'mtfcc', 'csafp', 'cbsafp', 'metdivfp',\n",
       "       'funcstat', 'aland', 'awater', 'intptlat', 'intptlon', 'geometry'],\n",
       "      dtype='object')"
      ]
     },
     "execution_count": 30,
     "metadata": {},
     "output_type": "execute_result"
    }
   ],
   "source": [
    "# a. Renaming the column 'name' to 'county' in the ny_counties data so we can join them\n",
    "ny_counties.rename(columns={'name': 'county'}, inplace= True)\n",
    "\n",
    "# Checking to see if the 'name' column has been renamed\n",
    "ny_counties.columns"
   ]
  },
  {
   "cell_type": "code",
   "execution_count": 31,
   "metadata": {
    "tags": []
   },
   "outputs": [],
   "source": [
    "# b. Over writing the ny_counties data to be the inner join of spills_per_county and old ny_counties\n",
    "ny_counties = ny_counties.merge(spills_per_county, on='county', how='inner')"
   ]
  },
  {
   "cell_type": "markdown",
   "metadata": {},
   "source": [
    "\n",
    "From our previous exploration we know that Tuscarora Indian Reservation will not be in the join. Tuscarora Indian Reservation is located within Niagara county. \n",
    "\n",
    "c. Since the Tuscarora Indian Reservation does not appear in the `ny_counties` dataframe, add one spill to Niagara county. Add the cells you need to make this update **and** verify that the dataframe was updated."
   ]
  },
  {
   "cell_type": "code",
   "execution_count": 32,
   "metadata": {
    "tags": []
   },
   "outputs": [
    {
     "data": {
      "text/html": [
       "<div>\n",
       "<style scoped>\n",
       "    .dataframe tbody tr th:only-of-type {\n",
       "        vertical-align: middle;\n",
       "    }\n",
       "\n",
       "    .dataframe tbody tr th {\n",
       "        vertical-align: top;\n",
       "    }\n",
       "\n",
       "    .dataframe thead th {\n",
       "        text-align: right;\n",
       "    }\n",
       "</style>\n",
       "<table border=\"1\" class=\"dataframe\">\n",
       "  <thead>\n",
       "    <tr style=\"text-align: right;\">\n",
       "      <th></th>\n",
       "      <th>statefp</th>\n",
       "      <th>countyfp</th>\n",
       "      <th>countyns</th>\n",
       "      <th>geoid</th>\n",
       "      <th>geoidfq</th>\n",
       "      <th>county</th>\n",
       "      <th>namelsad</th>\n",
       "      <th>lsad</th>\n",
       "      <th>classfp</th>\n",
       "      <th>mtfcc</th>\n",
       "      <th>csafp</th>\n",
       "      <th>cbsafp</th>\n",
       "      <th>metdivfp</th>\n",
       "      <th>funcstat</th>\n",
       "      <th>aland</th>\n",
       "      <th>awater</th>\n",
       "      <th>intptlat</th>\n",
       "      <th>intptlon</th>\n",
       "      <th>geometry</th>\n",
       "      <th>n_spills</th>\n",
       "    </tr>\n",
       "  </thead>\n",
       "  <tbody>\n",
       "    <tr>\n",
       "      <th>0</th>\n",
       "      <td>36</td>\n",
       "      <td>101</td>\n",
       "      <td>00974148</td>\n",
       "      <td>36101</td>\n",
       "      <td>0500000US36101</td>\n",
       "      <td>Steuben</td>\n",
       "      <td>Steuben County</td>\n",
       "      <td>06</td>\n",
       "      <td>H1</td>\n",
       "      <td>G4020</td>\n",
       "      <td>236</td>\n",
       "      <td>18500</td>\n",
       "      <td>NaN</td>\n",
       "      <td>A</td>\n",
       "      <td>3601398422</td>\n",
       "      <td>35039875</td>\n",
       "      <td>+42.2667252</td>\n",
       "      <td>-077.3855253</td>\n",
       "      <td>POLYGON ((-77.08327 42.00002, -77.09391 41.999...</td>\n",
       "      <td>72</td>\n",
       "    </tr>\n",
       "    <tr>\n",
       "      <th>1</th>\n",
       "      <td>36</td>\n",
       "      <td>091</td>\n",
       "      <td>00974143</td>\n",
       "      <td>36091</td>\n",
       "      <td>0500000US36091</td>\n",
       "      <td>Saratoga</td>\n",
       "      <td>Saratoga County</td>\n",
       "      <td>06</td>\n",
       "      <td>H1</td>\n",
       "      <td>G4020</td>\n",
       "      <td>104</td>\n",
       "      <td>10580</td>\n",
       "      <td>NaN</td>\n",
       "      <td>A</td>\n",
       "      <td>2097812305</td>\n",
       "      <td>87488004</td>\n",
       "      <td>+43.1061353</td>\n",
       "      <td>-073.8553872</td>\n",
       "      <td>POLYGON ((-73.67891 42.91221, -73.67938 42.911...</td>\n",
       "      <td>160</td>\n",
       "    </tr>\n",
       "    <tr>\n",
       "      <th>2</th>\n",
       "      <td>36</td>\n",
       "      <td>003</td>\n",
       "      <td>00974100</td>\n",
       "      <td>36003</td>\n",
       "      <td>0500000US36003</td>\n",
       "      <td>Allegany</td>\n",
       "      <td>Allegany County</td>\n",
       "      <td>06</td>\n",
       "      <td>H1</td>\n",
       "      <td>G4020</td>\n",
       "      <td>NaN</td>\n",
       "      <td>NaN</td>\n",
       "      <td>NaN</td>\n",
       "      <td>A</td>\n",
       "      <td>2666409356</td>\n",
       "      <td>12990521</td>\n",
       "      <td>+42.2478532</td>\n",
       "      <td>-078.0261531</td>\n",
       "      <td>POLYGON ((-78.04342 42.51846, -78.04326 42.518...</td>\n",
       "      <td>30</td>\n",
       "    </tr>\n",
       "    <tr>\n",
       "      <th>3</th>\n",
       "      <td>36</td>\n",
       "      <td>075</td>\n",
       "      <td>00974136</td>\n",
       "      <td>36075</td>\n",
       "      <td>0500000US36075</td>\n",
       "      <td>Oswego</td>\n",
       "      <td>Oswego County</td>\n",
       "      <td>06</td>\n",
       "      <td>H1</td>\n",
       "      <td>G4020</td>\n",
       "      <td>532</td>\n",
       "      <td>45060</td>\n",
       "      <td>NaN</td>\n",
       "      <td>A</td>\n",
       "      <td>2464650884</td>\n",
       "      <td>933469962</td>\n",
       "      <td>+43.4614431</td>\n",
       "      <td>-076.2092618</td>\n",
       "      <td>POLYGON ((-76.02509 43.70702, -76.02004 43.706...</td>\n",
       "      <td>68</td>\n",
       "    </tr>\n",
       "    <tr>\n",
       "      <th>4</th>\n",
       "      <td>36</td>\n",
       "      <td>111</td>\n",
       "      <td>00974153</td>\n",
       "      <td>36111</td>\n",
       "      <td>0500000US36111</td>\n",
       "      <td>Ulster</td>\n",
       "      <td>Ulster County</td>\n",
       "      <td>06</td>\n",
       "      <td>H1</td>\n",
       "      <td>G4020</td>\n",
       "      <td>408</td>\n",
       "      <td>28740</td>\n",
       "      <td>NaN</td>\n",
       "      <td>A</td>\n",
       "      <td>2911757764</td>\n",
       "      <td>94596810</td>\n",
       "      <td>+41.9472124</td>\n",
       "      <td>-074.2654582</td>\n",
       "      <td>POLYGON ((-74.07480 42.09659, -74.06441 42.120...</td>\n",
       "      <td>160</td>\n",
       "    </tr>\n",
       "  </tbody>\n",
       "</table>\n",
       "</div>"
      ],
      "text/plain": [
       "  statefp countyfp  countyns  geoid         geoidfq    county  \\\n",
       "0      36      101  00974148  36101  0500000US36101   Steuben   \n",
       "1      36      091  00974143  36091  0500000US36091  Saratoga   \n",
       "2      36      003  00974100  36003  0500000US36003  Allegany   \n",
       "3      36      075  00974136  36075  0500000US36075    Oswego   \n",
       "4      36      111  00974153  36111  0500000US36111    Ulster   \n",
       "\n",
       "          namelsad lsad classfp  mtfcc csafp cbsafp metdivfp funcstat  \\\n",
       "0   Steuben County   06      H1  G4020   236  18500      NaN        A   \n",
       "1  Saratoga County   06      H1  G4020   104  10580      NaN        A   \n",
       "2  Allegany County   06      H1  G4020   NaN    NaN      NaN        A   \n",
       "3    Oswego County   06      H1  G4020   532  45060      NaN        A   \n",
       "4    Ulster County   06      H1  G4020   408  28740      NaN        A   \n",
       "\n",
       "        aland     awater     intptlat      intptlon  \\\n",
       "0  3601398422   35039875  +42.2667252  -077.3855253   \n",
       "1  2097812305   87488004  +43.1061353  -073.8553872   \n",
       "2  2666409356   12990521  +42.2478532  -078.0261531   \n",
       "3  2464650884  933469962  +43.4614431  -076.2092618   \n",
       "4  2911757764   94596810  +41.9472124  -074.2654582   \n",
       "\n",
       "                                            geometry  n_spills  \n",
       "0  POLYGON ((-77.08327 42.00002, -77.09391 41.999...        72  \n",
       "1  POLYGON ((-73.67891 42.91221, -73.67938 42.911...       160  \n",
       "2  POLYGON ((-78.04342 42.51846, -78.04326 42.518...        30  \n",
       "3  POLYGON ((-76.02509 43.70702, -76.02004 43.706...        68  \n",
       "4  POLYGON ((-74.07480 42.09659, -74.06441 42.120...       160  "
      ]
     },
     "execution_count": 32,
     "metadata": {},
     "output_type": "execute_result"
    }
   ],
   "source": [
    "# Looking at the joined data set of ny_counties and spill_per_county\n",
    "ny_counties.head()"
   ]
  },
  {
   "cell_type": "code",
   "execution_count": 33,
   "metadata": {
    "tags": []
   },
   "outputs": [
    {
     "data": {
      "text/html": [
       "<div>\n",
       "<style scoped>\n",
       "    .dataframe tbody tr th:only-of-type {\n",
       "        vertical-align: middle;\n",
       "    }\n",
       "\n",
       "    .dataframe tbody tr th {\n",
       "        vertical-align: top;\n",
       "    }\n",
       "\n",
       "    .dataframe thead th {\n",
       "        text-align: right;\n",
       "    }\n",
       "</style>\n",
       "<table border=\"1\" class=\"dataframe\">\n",
       "  <thead>\n",
       "    <tr style=\"text-align: right;\">\n",
       "      <th></th>\n",
       "      <th>statefp</th>\n",
       "      <th>countyfp</th>\n",
       "      <th>countyns</th>\n",
       "      <th>geoid</th>\n",
       "      <th>geoidfq</th>\n",
       "      <th>county</th>\n",
       "      <th>namelsad</th>\n",
       "      <th>lsad</th>\n",
       "      <th>classfp</th>\n",
       "      <th>mtfcc</th>\n",
       "      <th>csafp</th>\n",
       "      <th>cbsafp</th>\n",
       "      <th>metdivfp</th>\n",
       "      <th>funcstat</th>\n",
       "      <th>aland</th>\n",
       "      <th>awater</th>\n",
       "      <th>intptlat</th>\n",
       "      <th>intptlon</th>\n",
       "      <th>geometry</th>\n",
       "      <th>n_spills</th>\n",
       "    </tr>\n",
       "  </thead>\n",
       "  <tbody>\n",
       "    <tr>\n",
       "      <th>45</th>\n",
       "      <td>36</td>\n",
       "      <td>063</td>\n",
       "      <td>00974130</td>\n",
       "      <td>36063</td>\n",
       "      <td>0500000US36063</td>\n",
       "      <td>Niagara</td>\n",
       "      <td>Niagara County</td>\n",
       "      <td>06</td>\n",
       "      <td>H1</td>\n",
       "      <td>G4020</td>\n",
       "      <td>160</td>\n",
       "      <td>15380</td>\n",
       "      <td>NaN</td>\n",
       "      <td>A</td>\n",
       "      <td>1352876140</td>\n",
       "      <td>1598772310</td>\n",
       "      <td>+43.2726719</td>\n",
       "      <td>-078.8129431</td>\n",
       "      <td>POLYGON ((-78.49165 43.08396, -78.49179 43.084...</td>\n",
       "      <td>88</td>\n",
       "    </tr>\n",
       "  </tbody>\n",
       "</table>\n",
       "</div>"
      ],
      "text/plain": [
       "   statefp countyfp  countyns  geoid         geoidfq   county        namelsad  \\\n",
       "45      36      063  00974130  36063  0500000US36063  Niagara  Niagara County   \n",
       "\n",
       "   lsad classfp  mtfcc csafp cbsafp metdivfp funcstat       aland      awater  \\\n",
       "45   06      H1  G4020   160  15380      NaN        A  1352876140  1598772310   \n",
       "\n",
       "       intptlat      intptlon  \\\n",
       "45  +43.2726719  -078.8129431   \n",
       "\n",
       "                                             geometry  n_spills  \n",
       "45  POLYGON ((-78.49165 43.08396, -78.49179 43.084...        88  "
      ]
     },
     "execution_count": 33,
     "metadata": {},
     "output_type": "execute_result"
    }
   ],
   "source": [
    "# c. Finding the current number of spills for Niagara county \n",
    "Niagara_county =ny_counties[ny_counties['county']== 'Niagara']\n",
    "Niagara_county"
   ]
  },
  {
   "cell_type": "code",
   "execution_count": 34,
   "metadata": {
    "tags": []
   },
   "outputs": [
    {
     "data": {
      "text/html": [
       "<div>\n",
       "<style scoped>\n",
       "    .dataframe tbody tr th:only-of-type {\n",
       "        vertical-align: middle;\n",
       "    }\n",
       "\n",
       "    .dataframe tbody tr th {\n",
       "        vertical-align: top;\n",
       "    }\n",
       "\n",
       "    .dataframe thead th {\n",
       "        text-align: right;\n",
       "    }\n",
       "</style>\n",
       "<table border=\"1\" class=\"dataframe\">\n",
       "  <thead>\n",
       "    <tr style=\"text-align: right;\">\n",
       "      <th></th>\n",
       "      <th>statefp</th>\n",
       "      <th>countyfp</th>\n",
       "      <th>countyns</th>\n",
       "      <th>geoid</th>\n",
       "      <th>geoidfq</th>\n",
       "      <th>county</th>\n",
       "      <th>namelsad</th>\n",
       "      <th>lsad</th>\n",
       "      <th>classfp</th>\n",
       "      <th>mtfcc</th>\n",
       "      <th>csafp</th>\n",
       "      <th>cbsafp</th>\n",
       "      <th>metdivfp</th>\n",
       "      <th>funcstat</th>\n",
       "      <th>aland</th>\n",
       "      <th>awater</th>\n",
       "      <th>intptlat</th>\n",
       "      <th>intptlon</th>\n",
       "      <th>geometry</th>\n",
       "      <th>n_spills</th>\n",
       "    </tr>\n",
       "  </thead>\n",
       "  <tbody>\n",
       "    <tr>\n",
       "      <th>45</th>\n",
       "      <td>36</td>\n",
       "      <td>063</td>\n",
       "      <td>00974130</td>\n",
       "      <td>36063</td>\n",
       "      <td>0500000US36063</td>\n",
       "      <td>Niagara</td>\n",
       "      <td>Niagara County</td>\n",
       "      <td>06</td>\n",
       "      <td>H1</td>\n",
       "      <td>G4020</td>\n",
       "      <td>160</td>\n",
       "      <td>15380</td>\n",
       "      <td>NaN</td>\n",
       "      <td>A</td>\n",
       "      <td>1352876140</td>\n",
       "      <td>1598772310</td>\n",
       "      <td>+43.2726719</td>\n",
       "      <td>-078.8129431</td>\n",
       "      <td>POLYGON ((-78.49165 43.08396, -78.49179 43.084...</td>\n",
       "      <td>89</td>\n",
       "    </tr>\n",
       "  </tbody>\n",
       "</table>\n",
       "</div>"
      ],
      "text/plain": [
       "   statefp countyfp  countyns  geoid         geoidfq   county        namelsad  \\\n",
       "45      36      063  00974130  36063  0500000US36063  Niagara  Niagara County   \n",
       "\n",
       "   lsad classfp  mtfcc csafp cbsafp metdivfp funcstat       aland      awater  \\\n",
       "45   06      H1  G4020   160  15380      NaN        A  1352876140  1598772310   \n",
       "\n",
       "       intptlat      intptlon  \\\n",
       "45  +43.2726719  -078.8129431   \n",
       "\n",
       "                                             geometry  n_spills  \n",
       "45  POLYGON ((-78.49165 43.08396, -78.49179 43.084...        89  "
      ]
     },
     "execution_count": 34,
     "metadata": {},
     "output_type": "execute_result"
    }
   ],
   "source": [
    "# Adding one to the total number of spills for Niagara county\n",
    "ny_counties.iloc[45, ny_counties.columns.get_loc('n_spills')] = 89\n",
    "\n",
    "# Checking to see if the above code worked\n",
    "Niagara_county =ny_counties[ny_counties['county']== 'Niagara']\n",
    "Niagara_county"
   ]
  },
  {
   "cell_type": "markdown",
   "metadata": {
    "deletable": false,
    "editable": false
   },
   "source": [
    "<!-- BEGIN QUESTION -->\n",
    "\n",
    "## 8. Map\n",
    "a. Create a choropleth map of the number of petroleum spills per county in the state of New York in 2023. \n",
    "Your map should be polished and have (at least) the following updates:\n",
    "- a legend indicating the number of spills\n",
    "- an updated color map\n",
    "- a title \n",
    "- no axis\n",
    "- an [annotation](https://matplotlib.org/stable/api/_as_gen/matplotlib.pyplot.annotate.html) with the data source (New York State Department of Environmental Conservation) and date of access.\n",
    "\n"
   ]
  },
  {
   "cell_type": "code",
   "execution_count": 35,
   "metadata": {
    "tags": []
   },
   "outputs": [
    {
     "name": "stderr",
     "output_type": "stream",
     "text": [
      "/opt/python/3.7.13/lib/python3.7/site-packages/geopandas/plotting.py:51: ShapelyDeprecationWarning: The 'type' attribute is deprecated, and will be removed in the future. You can use the 'geom_type' attribute instead.\n",
      "  if geom is not None and geom.type.startswith(prefix) and not geom.is_empty:\n"
     ]
    },
    {
     "data": {
      "text/plain": [
       "Text(0, 0, 'Citation: New York State Department of Environmental Conservation. Date accessed [11/07/2023]')"
      ]
     },
     "execution_count": 35,
     "metadata": {},
     "output_type": "execute_result"
    },
    {
     "data": {
      "image/png": "[encoded data removed]",
      "text/plain": [
       "<Figure size 1000x600 with 2 Axes>"
      ]
     },
     "metadata": {},
     "output_type": "display_data"
    }
   ],
   "source": [
    "#Plot the Choropleth map\n",
    "fig, ax = plt.subplots(1, figsize=(10,6))\n",
    "ny_counties.plot(column='n_spills', cmap='RdPu', linewidth=1, ax=ax, edgecolor='0.9', legend = True)\n",
    "ax.axis('off')\n",
    "plt.title( \"Petroleum Oil Spills Per New York County in 2023\")\n",
    "ax.annotate(text= \"Citation: New York State Department of Environmental Conservation. Date accessed [11/07/2023]\",\n",
    "            xy= (0,0))\n"
   ]
  },
  {
   "cell_type": "markdown",
   "metadata": {
    "deletable": false,
    "editable": false
   },
   "source": [
    "<!-- END QUESTION -->\n",
    "\n",
    "<!-- BEGIN QUESTION -->\n",
    "\n",
    "b. Write a figure description for the map, including tha names of the top 3 counties with the most petroleum spills. If you need to do additional data analysis to include relevant information from the data, you may include additional code cells here."
   ]
  },
  {
   "cell_type": "markdown",
   "metadata": {},
   "source": [
    "- This choropleth map displays the number of petroleum oils spills by New York county, for the year 2023. The 3 counties with the most petroleum spills were Westchester with 739, Suffolk with 720, and Nassau with 571.  "
   ]
  },
  {
   "cell_type": "code",
   "execution_count": 41,
   "metadata": {
    "tags": []
   },
   "outputs": [
    {
     "data": {
      "text/plain": [
       "23    739\n",
       "8     720\n",
       "20    571\n",
       "59    333\n",
       "42    321\n",
       "Name: n_spills, dtype: int64"
      ]
     },
     "execution_count": 41,
     "metadata": {},
     "output_type": "execute_result"
    }
   ],
   "source": [
    "# Finding the counties with the most oil spills \n",
    "ny_counties['n_spills'].nlargest()"
   ]
  },
  {
   "cell_type": "code",
   "execution_count": 37,
   "metadata": {
    "tags": []
   },
   "outputs": [
    {
     "data": {
      "text/plain": [
       "statefp                                                    36\n",
       "countyfp                                                  119\n",
       "countyns                                             00974157\n",
       "geoid                                                   36119\n",
       "geoidfq                                        0500000US36119\n",
       "county                                            Westchester\n",
       "namelsad                                   Westchester County\n",
       "lsad                                                       06\n",
       "classfp                                                    H1\n",
       "mtfcc                                                   G4020\n",
       "csafp                                                     408\n",
       "cbsafp                                                  35620\n",
       "metdivfp                                                35614\n",
       "funcstat                                                    A\n",
       "aland                                              1115811940\n",
       "awater                                              179391718\n",
       "intptlat                                          +41.1526862\n",
       "intptlon                                         -073.7457526\n",
       "geometry    POLYGON ((-73.657615 40.985499, -73.65739 40.9...\n",
       "n_spills                                                  739\n",
       "Name: 23, dtype: object"
      ]
     },
     "execution_count": 37,
     "metadata": {},
     "output_type": "execute_result"
    }
   ],
   "source": [
    "# Looking at the 23rd row to identify which county this observation came from\n",
    "ny_counties.iloc[23,]"
   ]
  },
  {
   "cell_type": "code",
   "execution_count": 39,
   "metadata": {
    "tags": []
   },
   "outputs": [
    {
     "data": {
      "text/plain": [
       "statefp                                                    36\n",
       "countyfp                                                  103\n",
       "countyns                                             00974149\n",
       "geoid                                                   36103\n",
       "geoidfq                                        0500000US36103\n",
       "county                                                Suffolk\n",
       "namelsad                                       Suffolk County\n",
       "lsad                                                       06\n",
       "classfp                                                    H1\n",
       "mtfcc                                                   G4020\n",
       "csafp                                                     408\n",
       "cbsafp                                                  35620\n",
       "metdivfp                                                35004\n",
       "funcstat                                                    A\n",
       "aland                                              2359277313\n",
       "awater                                             3787417976\n",
       "intptlat                                          +40.9435540\n",
       "intptlon                                         -072.6922183\n",
       "geometry    POLYGON ((-71.809384 41.203235, -71.791151 41....\n",
       "n_spills                                                  720\n",
       "Name: 8, dtype: object"
      ]
     },
     "execution_count": 39,
     "metadata": {},
     "output_type": "execute_result"
    }
   ],
   "source": [
    "# Looking at the 8th row to identify which county this observation came from\n",
    "ny_counties.iloc[8,]"
   ]
  },
  {
   "cell_type": "code",
   "execution_count": 40,
   "metadata": {
    "tags": []
   },
   "outputs": [
    {
     "data": {
      "text/plain": [
       "statefp                                                    36\n",
       "countyfp                                                  059\n",
       "countyns                                             00974128\n",
       "geoid                                                   36059\n",
       "geoidfq                                        0500000US36059\n",
       "county                                                 Nassau\n",
       "namelsad                                        Nassau County\n",
       "lsad                                                       06\n",
       "classfp                                                    H1\n",
       "mtfcc                                                   G4020\n",
       "csafp                                                     408\n",
       "cbsafp                                                  35620\n",
       "metdivfp                                                35004\n",
       "funcstat                                                    A\n",
       "aland                                               736960644\n",
       "awater                                              437290665\n",
       "intptlat                                          +40.7296118\n",
       "intptlon                                         -073.5894144\n",
       "geometry    POLYGON ((-73.780193 40.8264, -73.774977 40.83...\n",
       "n_spills                                                  571\n",
       "Name: 20, dtype: object"
      ]
     },
     "execution_count": 40,
     "metadata": {},
     "output_type": "execute_result"
    }
   ],
   "source": [
    "# Looking at the 20th row to identify which county this observation came from\n",
    "ny_counties.iloc[20,]"
   ]
  },
  {
   "cell_type": "code",
   "execution_count": null,
   "metadata": {},
   "outputs": [],
   "source": []
  }
 ],
 "metadata": {
  "kernelspec": {
   "display_name": "Python 3 (ipykernel)",
   "language": "python",
   "name": "python3"
  },
  "language_info": {
   "codemirror_mode": {
    "name": "ipython",
    "version": 3
   },
   "file_extension": ".py",
   "mimetype": "text/x-python",
   "name": "python",
   "nbconvert_exporter": "python",
   "pygments_lexer": "ipython3",
   "version": "3.7.13"
  },
  "vscode": {
   "interpreter": {
    "hash": "0f97f47f74ab0b040131b6681dd542ab9cd7e1dcd971bc09e899dabc517362fa"
   }
  }
 },
 "nbformat": 4,
 "nbformat_minor": 4
}
